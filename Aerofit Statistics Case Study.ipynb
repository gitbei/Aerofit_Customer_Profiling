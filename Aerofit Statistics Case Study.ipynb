{
 "cells": [
  {
   "cell_type": "markdown",
   "id": "51306e5e",
   "metadata": {},
   "source": [
    "# AEROFIT Business Case - Descriptive Statistics & Probability"
   ]
  },
  {
   "cell_type": "markdown",
   "id": "fd99f771",
   "metadata": {},
   "source": [
    "### Business Problem\n",
    "\n",
    "The market research team at AeroFit wants to identify the characteristics of the target audience for each type of treadmill offered by the company, to provide a better recommendation of the treadmills to the new customers. The team decides to investigate whether there are differences across the product with respect to customer characteristics."
   ]
  },
  {
   "cell_type": "code",
   "execution_count": 2,
   "id": "b9c81a72",
   "metadata": {},
   "outputs": [],
   "source": [
    "import pandas as pd\n",
    "import numpy as np\n",
    "import matplotlib.pyplot as plt\n",
    "import seaborn as sns"
   ]
  },
  {
   "cell_type": "code",
   "execution_count": 3,
   "id": "e99968b0",
   "metadata": {},
   "outputs": [],
   "source": [
    "df = pd.read_csv(r\"C:\\Users\\n.rahman\\OneDrive - BALADNA\\Desktop\\BALADNA\\Ex Docs\\SCALER-DSML\\Module 6 - DAV - Pandas\\aerofit_treadmill.csv\")"
   ]
  },
  {
   "cell_type": "code",
   "execution_count": 4,
   "id": "5b8ef1b6",
   "metadata": {
    "scrolled": false
   },
   "outputs": [
    {
     "data": {
      "text/html": [
       "<div>\n",
       "<style scoped>\n",
       "    .dataframe tbody tr th:only-of-type {\n",
       "        vertical-align: middle;\n",
       "    }\n",
       "\n",
       "    .dataframe tbody tr th {\n",
       "        vertical-align: top;\n",
       "    }\n",
       "\n",
       "    .dataframe thead th {\n",
       "        text-align: right;\n",
       "    }\n",
       "</style>\n",
       "<table border=\"1\" class=\"dataframe\">\n",
       "  <thead>\n",
       "    <tr style=\"text-align: right;\">\n",
       "      <th></th>\n",
       "      <th>Product</th>\n",
       "      <th>Age</th>\n",
       "      <th>Gender</th>\n",
       "      <th>Education</th>\n",
       "      <th>MaritalStatus</th>\n",
       "      <th>Usage</th>\n",
       "      <th>Fitness</th>\n",
       "      <th>Income</th>\n",
       "      <th>Miles</th>\n",
       "    </tr>\n",
       "  </thead>\n",
       "  <tbody>\n",
       "    <tr>\n",
       "      <th>29</th>\n",
       "      <td>KP281</td>\n",
       "      <td>25</td>\n",
       "      <td>Female</td>\n",
       "      <td>14</td>\n",
       "      <td>Partnered</td>\n",
       "      <td>2</td>\n",
       "      <td>2</td>\n",
       "      <td>53439</td>\n",
       "      <td>47</td>\n",
       "    </tr>\n",
       "    <tr>\n",
       "      <th>166</th>\n",
       "      <td>KP781</td>\n",
       "      <td>29</td>\n",
       "      <td>Male</td>\n",
       "      <td>14</td>\n",
       "      <td>Partnered</td>\n",
       "      <td>7</td>\n",
       "      <td>5</td>\n",
       "      <td>85906</td>\n",
       "      <td>300</td>\n",
       "    </tr>\n",
       "    <tr>\n",
       "      <th>53</th>\n",
       "      <td>KP281</td>\n",
       "      <td>30</td>\n",
       "      <td>Male</td>\n",
       "      <td>14</td>\n",
       "      <td>Partnered</td>\n",
       "      <td>4</td>\n",
       "      <td>4</td>\n",
       "      <td>46617</td>\n",
       "      <td>141</td>\n",
       "    </tr>\n",
       "    <tr>\n",
       "      <th>124</th>\n",
       "      <td>KP481</td>\n",
       "      <td>33</td>\n",
       "      <td>Female</td>\n",
       "      <td>18</td>\n",
       "      <td>Single</td>\n",
       "      <td>3</td>\n",
       "      <td>4</td>\n",
       "      <td>47754</td>\n",
       "      <td>74</td>\n",
       "    </tr>\n",
       "    <tr>\n",
       "      <th>116</th>\n",
       "      <td>KP481</td>\n",
       "      <td>31</td>\n",
       "      <td>Female</td>\n",
       "      <td>16</td>\n",
       "      <td>Partnered</td>\n",
       "      <td>2</td>\n",
       "      <td>3</td>\n",
       "      <td>51165</td>\n",
       "      <td>64</td>\n",
       "    </tr>\n",
       "  </tbody>\n",
       "</table>\n",
       "</div>"
      ],
      "text/plain": [
       "    Product  Age  Gender  Education MaritalStatus  Usage  Fitness  Income  \\\n",
       "29    KP281   25  Female         14     Partnered      2        2   53439   \n",
       "166   KP781   29    Male         14     Partnered      7        5   85906   \n",
       "53    KP281   30    Male         14     Partnered      4        4   46617   \n",
       "124   KP481   33  Female         18        Single      3        4   47754   \n",
       "116   KP481   31  Female         16     Partnered      2        3   51165   \n",
       "\n",
       "     Miles  \n",
       "29      47  \n",
       "166    300  \n",
       "53     141  \n",
       "124     74  \n",
       "116     64  "
      ]
     },
     "execution_count": 4,
     "metadata": {},
     "output_type": "execute_result"
    }
   ],
   "source": [
    "df.sample(5)"
   ]
  },
  {
   "cell_type": "markdown",
   "id": "c2ccf59c",
   "metadata": {},
   "source": [
    "## DATA ANALYSIS & PLOTS"
   ]
  },
  {
   "cell_type": "markdown",
   "id": "ba058d8f",
   "metadata": {},
   "source": [
    "###  Basic EDA - shape,info, basic stats, attributes value counts¶, null values, outliers"
   ]
  },
  {
   "cell_type": "code",
   "execution_count": 14,
   "id": "e9e613c3",
   "metadata": {},
   "outputs": [
    {
     "name": "stdout",
     "output_type": "stream",
     "text": [
      "<class 'pandas.core.frame.DataFrame'>\n",
      "RangeIndex: 180 entries, 0 to 179\n",
      "Data columns (total 9 columns):\n",
      " #   Column         Non-Null Count  Dtype \n",
      "---  ------         --------------  ----- \n",
      " 0   Product        180 non-null    object\n",
      " 1   Age            180 non-null    int64 \n",
      " 2   Gender         180 non-null    object\n",
      " 3   Education      180 non-null    int64 \n",
      " 4   MaritalStatus  180 non-null    object\n",
      " 5   Usage          180 non-null    int64 \n",
      " 6   Fitness        180 non-null    int64 \n",
      " 7   Income         180 non-null    int64 \n",
      " 8   Miles          180 non-null    int64 \n",
      "dtypes: int64(6), object(3)\n",
      "memory usage: 12.8+ KB\n"
     ]
    }
   ],
   "source": [
    "df.info()"
   ]
  },
  {
   "cell_type": "code",
   "execution_count": 16,
   "id": "ca167e0a",
   "metadata": {},
   "outputs": [
    {
     "data": {
      "text/plain": [
       "array(['Male', 'Female'], dtype=object)"
      ]
     },
     "execution_count": 16,
     "metadata": {},
     "output_type": "execute_result"
    }
   ],
   "source": [
    "df[\"Gender\"].unique()"
   ]
  },
  {
   "cell_type": "code",
   "execution_count": 17,
   "id": "3db4f379",
   "metadata": {},
   "outputs": [
    {
     "data": {
      "text/plain": [
       "array(['Single', 'Partnered'], dtype=object)"
      ]
     },
     "execution_count": 17,
     "metadata": {},
     "output_type": "execute_result"
    }
   ],
   "source": [
    "df[\"MaritalStatus\"].unique()"
   ]
  },
  {
   "cell_type": "code",
   "execution_count": 18,
   "id": "3f00d3a9",
   "metadata": {},
   "outputs": [
    {
     "data": {
      "text/plain": [
       "Product\n",
       "KP281    80\n",
       "KP481    60\n",
       "KP781    40\n",
       "Name: count, dtype: int64"
      ]
     },
     "execution_count": 18,
     "metadata": {},
     "output_type": "execute_result"
    }
   ],
   "source": [
    "df[\"Product\"].value_counts()"
   ]
  },
  {
   "cell_type": "code",
   "execution_count": 19,
   "id": "1aa4a47f",
   "metadata": {},
   "outputs": [
    {
     "data": {
      "text/plain": [
       "Product          0\n",
       "Age              0\n",
       "Gender           0\n",
       "Education        0\n",
       "MaritalStatus    0\n",
       "Usage            0\n",
       "Fitness          0\n",
       "Income           0\n",
       "Miles            0\n",
       "dtype: int64"
      ]
     },
     "execution_count": 19,
     "metadata": {},
     "output_type": "execute_result"
    }
   ],
   "source": [
    "df.isnull().sum() # no null values"
   ]
  },
  {
   "cell_type": "code",
   "execution_count": 20,
   "id": "a603bedc",
   "metadata": {},
   "outputs": [
    {
     "data": {
      "text/html": [
       "<div>\n",
       "<style scoped>\n",
       "    .dataframe tbody tr th:only-of-type {\n",
       "        vertical-align: middle;\n",
       "    }\n",
       "\n",
       "    .dataframe tbody tr th {\n",
       "        vertical-align: top;\n",
       "    }\n",
       "\n",
       "    .dataframe thead th {\n",
       "        text-align: right;\n",
       "    }\n",
       "</style>\n",
       "<table border=\"1\" class=\"dataframe\">\n",
       "  <thead>\n",
       "    <tr style=\"text-align: right;\">\n",
       "      <th></th>\n",
       "      <th>Age</th>\n",
       "      <th>Education</th>\n",
       "      <th>Usage</th>\n",
       "      <th>Fitness</th>\n",
       "      <th>Income</th>\n",
       "      <th>Miles</th>\n",
       "    </tr>\n",
       "  </thead>\n",
       "  <tbody>\n",
       "    <tr>\n",
       "      <th>count</th>\n",
       "      <td>180.000000</td>\n",
       "      <td>180.000000</td>\n",
       "      <td>180.000000</td>\n",
       "      <td>180.000000</td>\n",
       "      <td>180.000000</td>\n",
       "      <td>180.000000</td>\n",
       "    </tr>\n",
       "    <tr>\n",
       "      <th>mean</th>\n",
       "      <td>28.788889</td>\n",
       "      <td>15.572222</td>\n",
       "      <td>3.455556</td>\n",
       "      <td>3.311111</td>\n",
       "      <td>53719.577778</td>\n",
       "      <td>103.194444</td>\n",
       "    </tr>\n",
       "    <tr>\n",
       "      <th>std</th>\n",
       "      <td>6.943498</td>\n",
       "      <td>1.617055</td>\n",
       "      <td>1.084797</td>\n",
       "      <td>0.958869</td>\n",
       "      <td>16506.684226</td>\n",
       "      <td>51.863605</td>\n",
       "    </tr>\n",
       "    <tr>\n",
       "      <th>min</th>\n",
       "      <td>18.000000</td>\n",
       "      <td>12.000000</td>\n",
       "      <td>2.000000</td>\n",
       "      <td>1.000000</td>\n",
       "      <td>29562.000000</td>\n",
       "      <td>21.000000</td>\n",
       "    </tr>\n",
       "    <tr>\n",
       "      <th>25%</th>\n",
       "      <td>24.000000</td>\n",
       "      <td>14.000000</td>\n",
       "      <td>3.000000</td>\n",
       "      <td>3.000000</td>\n",
       "      <td>44058.750000</td>\n",
       "      <td>66.000000</td>\n",
       "    </tr>\n",
       "    <tr>\n",
       "      <th>50%</th>\n",
       "      <td>26.000000</td>\n",
       "      <td>16.000000</td>\n",
       "      <td>3.000000</td>\n",
       "      <td>3.000000</td>\n",
       "      <td>50596.500000</td>\n",
       "      <td>94.000000</td>\n",
       "    </tr>\n",
       "    <tr>\n",
       "      <th>75%</th>\n",
       "      <td>33.000000</td>\n",
       "      <td>16.000000</td>\n",
       "      <td>4.000000</td>\n",
       "      <td>4.000000</td>\n",
       "      <td>58668.000000</td>\n",
       "      <td>114.750000</td>\n",
       "    </tr>\n",
       "    <tr>\n",
       "      <th>max</th>\n",
       "      <td>50.000000</td>\n",
       "      <td>21.000000</td>\n",
       "      <td>7.000000</td>\n",
       "      <td>5.000000</td>\n",
       "      <td>104581.000000</td>\n",
       "      <td>360.000000</td>\n",
       "    </tr>\n",
       "  </tbody>\n",
       "</table>\n",
       "</div>"
      ],
      "text/plain": [
       "              Age   Education       Usage     Fitness         Income  \\\n",
       "count  180.000000  180.000000  180.000000  180.000000     180.000000   \n",
       "mean    28.788889   15.572222    3.455556    3.311111   53719.577778   \n",
       "std      6.943498    1.617055    1.084797    0.958869   16506.684226   \n",
       "min     18.000000   12.000000    2.000000    1.000000   29562.000000   \n",
       "25%     24.000000   14.000000    3.000000    3.000000   44058.750000   \n",
       "50%     26.000000   16.000000    3.000000    3.000000   50596.500000   \n",
       "75%     33.000000   16.000000    4.000000    4.000000   58668.000000   \n",
       "max     50.000000   21.000000    7.000000    5.000000  104581.000000   \n",
       "\n",
       "            Miles  \n",
       "count  180.000000  \n",
       "mean   103.194444  \n",
       "std     51.863605  \n",
       "min     21.000000  \n",
       "25%     66.000000  \n",
       "50%     94.000000  \n",
       "75%    114.750000  \n",
       "max    360.000000  "
      ]
     },
     "execution_count": 20,
     "metadata": {},
     "output_type": "execute_result"
    }
   ],
   "source": [
    "df.describe()"
   ]
  },
  {
   "cell_type": "markdown",
   "id": "91673023",
   "metadata": {},
   "source": [
    "**Observation**\n",
    "\n",
    "- Across all columns we dont really see there is major difference between the mean and median(50%) indicating that the data variability or spread is relatively symmetric with no significant skewed outliers pulling the mean away from the median.\n",
    "- Attributes Income and Miles have slight difference between mean and median indicating some potential customers who earns more and run extra miles as an outliers. This need to further analyse.\n",
    "- It just means that any outliers that exist are balanced in such a way that they don't skew the mean significantly compared to the median.\n",
    "- Lets randomly boxplot for some of the attributes "
   ]
  },
  {
   "cell_type": "code",
   "execution_count": 21,
   "id": "d6c83140",
   "metadata": {
    "scrolled": false
   },
   "outputs": [
    {
     "data": {
      "text/plain": [
       "<Axes: >"
      ]
     },
     "execution_count": 21,
     "metadata": {},
     "output_type": "execute_result"
    },
    {
     "data": {
      "image/png": "[encoded data removed]",
      "text/plain": [
       "<Figure size 640x480 with 1 Axes>"
      ]
     },
     "metadata": {},
     "output_type": "display_data"
    }
   ],
   "source": [
    "sns.boxplot(df[\"Age\"],color = 'g',orient =\"h\")"
   ]
  },
  {
   "cell_type": "code",
   "execution_count": 23,
   "id": "c0bf3562",
   "metadata": {
    "scrolled": false
   },
   "outputs": [
    {
     "data": {
      "text/plain": [
       "<Axes: xlabel='Age', ylabel='Density'>"
      ]
     },
     "execution_count": 23,
     "metadata": {},
     "output_type": "execute_result"
    },
    {
     "data": {
      "image/png": "[encoded data removed]",
      "text/plain": [
       "<Figure size 640x480 with 1 Axes>"
      ]
     },
     "metadata": {},
     "output_type": "display_data"
    }
   ],
   "source": [
    "sns.kdeplot(df[\"Age\"])"
   ]
  },
  {
   "cell_type": "markdown",
   "id": "47b4d39a",
   "metadata": {},
   "source": [
    "#### Calculating the Age percentiles and IQR"
   ]
  },
  {
   "cell_type": "code",
   "execution_count": 24,
   "id": "aba1f07c",
   "metadata": {},
   "outputs": [
    {
     "data": {
      "text/plain": [
       "(33.0, 24.0)"
      ]
     },
     "execution_count": 24,
     "metadata": {},
     "output_type": "execute_result"
    }
   ],
   "source": [
    "age_75 = np.percentile(df[\"Age\"],75)\n",
    "age_25 = np.percentile(df[\"Age\"],25)\n",
    "age_75,age_25"
   ]
  },
  {
   "cell_type": "code",
   "execution_count": 25,
   "id": "e1aa20fe",
   "metadata": {},
   "outputs": [
    {
     "data": {
      "text/plain": [
       "9.0"
      ]
     },
     "execution_count": 25,
     "metadata": {},
     "output_type": "execute_result"
    }
   ],
   "source": [
    "age_iqr = age_75-age_25\n",
    "age_iqr"
   ]
  },
  {
   "cell_type": "code",
   "execution_count": 26,
   "id": "530b6037",
   "metadata": {},
   "outputs": [
    {
     "data": {
      "text/plain": [
       "46.5"
      ]
     },
     "execution_count": 26,
     "metadata": {},
     "output_type": "execute_result"
    }
   ],
   "source": [
    "upper_whisker_age = age_75 + 1.5*age_iqr\n",
    "upper_whisker_age"
   ]
  },
  {
   "cell_type": "code",
   "execution_count": 27,
   "id": "5923ef40",
   "metadata": {},
   "outputs": [
    {
     "data": {
      "text/plain": [
       "10.5"
      ]
     },
     "execution_count": 27,
     "metadata": {},
     "output_type": "execute_result"
    }
   ],
   "source": [
    "lower_whisker_age = age_25 - 1.5*age_iqr\n",
    "lower_whisker_age"
   ]
  },
  {
   "cell_type": "markdown",
   "id": "e302af9d",
   "metadata": {},
   "source": [
    "**Observation**\n",
    "\n",
    "- We observed the IQR of age is 9 indicating the ages of the middle 50% of people fall within a 9-year range(from 24 to 33 years)\n",
    "- So from above age boxplot we see the outliers exist as data points that lie beyond 1.5 times the interquartile range (IQR) from the first and third quartiles.\n",
    "- Upper whisker point = 46.5\n",
    "- Lower whisker point = 10.5\n",
    "- Any data point outside these bounds is considered an outlier."
   ]
  },
  {
   "cell_type": "code",
   "execution_count": 28,
   "id": "399412dd",
   "metadata": {},
   "outputs": [
    {
     "data": {
      "text/plain": [
       "<Axes: >"
      ]
     },
     "execution_count": 28,
     "metadata": {},
     "output_type": "execute_result"
    },
    {
     "data": {
      "image/png": "[encoded data removed]",
      "text/plain": [
       "<Figure size 640x480 with 1 Axes>"
      ]
     },
     "metadata": {},
     "output_type": "display_data"
    }
   ],
   "source": [
    "sns.boxplot(df[\"Miles\"],orient=\"h\")"
   ]
  },
  {
   "cell_type": "code",
   "execution_count": 29,
   "id": "6bac89b3",
   "metadata": {
    "scrolled": false
   },
   "outputs": [
    {
     "data": {
      "text/plain": [
       "<Axes: >"
      ]
     },
     "execution_count": 29,
     "metadata": {},
     "output_type": "execute_result"
    },
    {
     "data": {
      "image/png": "[encoded data removed]",
      "text/plain": [
       "<Figure size 640x480 with 1 Axes>"
      ]
     },
     "metadata": {},
     "output_type": "display_data"
    }
   ],
   "source": [
    "sns.boxplot(df[\"Income\"],orient=\"h\")"
   ]
  },
  {
   "cell_type": "markdown",
   "id": "7674030a",
   "metadata": {},
   "source": [
    "----------------------------------------------------------------------------------------------------------------------------"
   ]
  },
  {
   "cell_type": "code",
   "execution_count": 30,
   "id": "f5a4a258",
   "metadata": {},
   "outputs": [
    {
     "data": {
      "text/html": [
       "<div>\n",
       "<style scoped>\n",
       "    .dataframe tbody tr th:only-of-type {\n",
       "        vertical-align: middle;\n",
       "    }\n",
       "\n",
       "    .dataframe tbody tr th {\n",
       "        vertical-align: top;\n",
       "    }\n",
       "\n",
       "    .dataframe thead th {\n",
       "        text-align: right;\n",
       "    }\n",
       "</style>\n",
       "<table border=\"1\" class=\"dataframe\">\n",
       "  <thead>\n",
       "    <tr style=\"text-align: right;\">\n",
       "      <th></th>\n",
       "      <th>Product</th>\n",
       "      <th>count</th>\n",
       "    </tr>\n",
       "  </thead>\n",
       "  <tbody>\n",
       "    <tr>\n",
       "      <th>0</th>\n",
       "      <td>KP281</td>\n",
       "      <td>80</td>\n",
       "    </tr>\n",
       "    <tr>\n",
       "      <th>1</th>\n",
       "      <td>KP481</td>\n",
       "      <td>60</td>\n",
       "    </tr>\n",
       "    <tr>\n",
       "      <th>2</th>\n",
       "      <td>KP781</td>\n",
       "      <td>40</td>\n",
       "    </tr>\n",
       "  </tbody>\n",
       "</table>\n",
       "</div>"
      ],
      "text/plain": [
       "  Product  count\n",
       "0   KP281     80\n",
       "1   KP481     60\n",
       "2   KP781     40"
      ]
     },
     "execution_count": 30,
     "metadata": {},
     "output_type": "execute_result"
    }
   ],
   "source": [
    "vc = df[\"Product\"].value_counts().reset_index()\n",
    "vc"
   ]
  },
  {
   "cell_type": "code",
   "execution_count": 31,
   "id": "4d1d2424",
   "metadata": {
    "scrolled": false
   },
   "outputs": [
    {
     "data": {
      "image/png": "[encoded data removed]",
      "text/plain": [
       "<Figure size 640x480 with 1 Axes>"
      ]
     },
     "metadata": {},
     "output_type": "display_data"
    }
   ],
   "source": [
    "sns.barplot(x = \"Product\", y=\"count\",data = vc)\n",
    "plt.title(\"Treadmills Purchased By Model\")\n",
    "plt.xlabel(\"Model\")\n",
    "plt.ylabel(\"Purchase Count\")\n",
    "plt.show()"
   ]
  },
  {
   "cell_type": "markdown",
   "id": "638f3ef7",
   "metadata": {},
   "source": [
    "## INSIGHTS Plot 1- This indicates the majority of purchase made on entry level treadmill(KP281) followed by mid-level runners(KP481) and the one with advanced features (KP781). "
   ]
  },
  {
   "cell_type": "code",
   "execution_count": 32,
   "id": "305c88c9",
   "metadata": {
    "scrolled": true
   },
   "outputs": [
    {
     "data": {
      "text/html": [
       "<div>\n",
       "<style scoped>\n",
       "    .dataframe tbody tr th:only-of-type {\n",
       "        vertical-align: middle;\n",
       "    }\n",
       "\n",
       "    .dataframe tbody tr th {\n",
       "        vertical-align: top;\n",
       "    }\n",
       "\n",
       "    .dataframe thead th {\n",
       "        text-align: right;\n",
       "    }\n",
       "</style>\n",
       "<table border=\"1\" class=\"dataframe\">\n",
       "  <thead>\n",
       "    <tr style=\"text-align: right;\">\n",
       "      <th></th>\n",
       "      <th>Age</th>\n",
       "      <th>Product</th>\n",
       "    </tr>\n",
       "  </thead>\n",
       "  <tbody>\n",
       "    <tr>\n",
       "      <th>7</th>\n",
       "      <td>25</td>\n",
       "      <td>25</td>\n",
       "    </tr>\n",
       "    <tr>\n",
       "      <th>5</th>\n",
       "      <td>23</td>\n",
       "      <td>18</td>\n",
       "    </tr>\n",
       "    <tr>\n",
       "      <th>6</th>\n",
       "      <td>24</td>\n",
       "      <td>12</td>\n",
       "    </tr>\n",
       "    <tr>\n",
       "      <th>8</th>\n",
       "      <td>26</td>\n",
       "      <td>12</td>\n",
       "    </tr>\n",
       "    <tr>\n",
       "      <th>10</th>\n",
       "      <td>28</td>\n",
       "      <td>9</td>\n",
       "    </tr>\n",
       "    <tr>\n",
       "      <th>17</th>\n",
       "      <td>35</td>\n",
       "      <td>8</td>\n",
       "    </tr>\n",
       "    <tr>\n",
       "      <th>15</th>\n",
       "      <td>33</td>\n",
       "      <td>8</td>\n",
       "    </tr>\n",
       "    <tr>\n",
       "      <th>12</th>\n",
       "      <td>30</td>\n",
       "      <td>7</td>\n",
       "    </tr>\n",
       "    <tr>\n",
       "      <th>20</th>\n",
       "      <td>38</td>\n",
       "      <td>7</td>\n",
       "    </tr>\n",
       "    <tr>\n",
       "      <th>3</th>\n",
       "      <td>21</td>\n",
       "      <td>7</td>\n",
       "    </tr>\n",
       "    <tr>\n",
       "      <th>4</th>\n",
       "      <td>22</td>\n",
       "      <td>7</td>\n",
       "    </tr>\n",
       "    <tr>\n",
       "      <th>9</th>\n",
       "      <td>27</td>\n",
       "      <td>7</td>\n",
       "    </tr>\n",
       "    <tr>\n",
       "      <th>13</th>\n",
       "      <td>31</td>\n",
       "      <td>6</td>\n",
       "    </tr>\n",
       "    <tr>\n",
       "      <th>16</th>\n",
       "      <td>34</td>\n",
       "      <td>6</td>\n",
       "    </tr>\n",
       "    <tr>\n",
       "      <th>11</th>\n",
       "      <td>29</td>\n",
       "      <td>6</td>\n",
       "    </tr>\n",
       "    <tr>\n",
       "      <th>2</th>\n",
       "      <td>20</td>\n",
       "      <td>5</td>\n",
       "    </tr>\n",
       "    <tr>\n",
       "      <th>22</th>\n",
       "      <td>40</td>\n",
       "      <td>5</td>\n",
       "    </tr>\n",
       "    <tr>\n",
       "      <th>14</th>\n",
       "      <td>32</td>\n",
       "      <td>4</td>\n",
       "    </tr>\n",
       "    <tr>\n",
       "      <th>1</th>\n",
       "      <td>19</td>\n",
       "      <td>4</td>\n",
       "    </tr>\n",
       "    <tr>\n",
       "      <th>30</th>\n",
       "      <td>48</td>\n",
       "      <td>2</td>\n",
       "    </tr>\n",
       "    <tr>\n",
       "      <th>19</th>\n",
       "      <td>37</td>\n",
       "      <td>2</td>\n",
       "    </tr>\n",
       "    <tr>\n",
       "      <th>29</th>\n",
       "      <td>47</td>\n",
       "      <td>2</td>\n",
       "    </tr>\n",
       "    <tr>\n",
       "      <th>27</th>\n",
       "      <td>45</td>\n",
       "      <td>2</td>\n",
       "    </tr>\n",
       "    <tr>\n",
       "      <th>26</th>\n",
       "      <td>44</td>\n",
       "      <td>1</td>\n",
       "    </tr>\n",
       "    <tr>\n",
       "      <th>28</th>\n",
       "      <td>46</td>\n",
       "      <td>1</td>\n",
       "    </tr>\n",
       "    <tr>\n",
       "      <th>0</th>\n",
       "      <td>18</td>\n",
       "      <td>1</td>\n",
       "    </tr>\n",
       "    <tr>\n",
       "      <th>25</th>\n",
       "      <td>43</td>\n",
       "      <td>1</td>\n",
       "    </tr>\n",
       "    <tr>\n",
       "      <th>24</th>\n",
       "      <td>42</td>\n",
       "      <td>1</td>\n",
       "    </tr>\n",
       "    <tr>\n",
       "      <th>23</th>\n",
       "      <td>41</td>\n",
       "      <td>1</td>\n",
       "    </tr>\n",
       "    <tr>\n",
       "      <th>21</th>\n",
       "      <td>39</td>\n",
       "      <td>1</td>\n",
       "    </tr>\n",
       "    <tr>\n",
       "      <th>18</th>\n",
       "      <td>36</td>\n",
       "      <td>1</td>\n",
       "    </tr>\n",
       "    <tr>\n",
       "      <th>31</th>\n",
       "      <td>50</td>\n",
       "      <td>1</td>\n",
       "    </tr>\n",
       "  </tbody>\n",
       "</table>\n",
       "</div>"
      ],
      "text/plain": [
       "    Age  Product\n",
       "7    25       25\n",
       "5    23       18\n",
       "6    24       12\n",
       "8    26       12\n",
       "10   28        9\n",
       "17   35        8\n",
       "15   33        8\n",
       "12   30        7\n",
       "20   38        7\n",
       "3    21        7\n",
       "4    22        7\n",
       "9    27        7\n",
       "13   31        6\n",
       "16   34        6\n",
       "11   29        6\n",
       "2    20        5\n",
       "22   40        5\n",
       "14   32        4\n",
       "1    19        4\n",
       "30   48        2\n",
       "19   37        2\n",
       "29   47        2\n",
       "27   45        2\n",
       "26   44        1\n",
       "28   46        1\n",
       "0    18        1\n",
       "25   43        1\n",
       "24   42        1\n",
       "23   41        1\n",
       "21   39        1\n",
       "18   36        1\n",
       "31   50        1"
      ]
     },
     "execution_count": 32,
     "metadata": {},
     "output_type": "execute_result"
    }
   ],
   "source": [
    "by_age = df.groupby([\"Age\"])[\"Product\"].count().reset_index().sort_values(\"Product\",ascending=False)\n",
    "by_age"
   ]
  },
  {
   "cell_type": "code",
   "execution_count": 164,
   "id": "f8a9aebf",
   "metadata": {
    "scrolled": false
   },
   "outputs": [
    {
     "data": {
      "image/png": "[encoded data removed]",
      "text/plain": [
       "<Figure size 800x500 with 1 Axes>"
      ]
     },
     "metadata": {},
     "output_type": "display_data"
    }
   ],
   "source": [
    "plt.figure(figsize=(8,5))\n",
    "sns.barplot(data=by_age,x=\"Age\",y=\"Product\",palette=\"Set1\")\n",
    "plt.title(\"Product Purchase By Age\")\n",
    "plt.ylabel(\"Product Purchase Count\")\n",
    "plt.show()"
   ]
  },
  {
   "cell_type": "markdown",
   "id": "e20e423c",
   "metadata": {},
   "source": [
    "###  INSIGHTS Plot 2- The Age group of 25 has purchased the highest number of treadmills compared to all other age groups, followed by ages 23, 24, and 26."
   ]
  },
  {
   "cell_type": "code",
   "execution_count": 39,
   "id": "4cbc3c22",
   "metadata": {},
   "outputs": [
    {
     "data": {
      "text/html": [
       "<div>\n",
       "<style scoped>\n",
       "    .dataframe tbody tr th:only-of-type {\n",
       "        vertical-align: middle;\n",
       "    }\n",
       "\n",
       "    .dataframe tbody tr th {\n",
       "        vertical-align: top;\n",
       "    }\n",
       "\n",
       "    .dataframe thead th {\n",
       "        text-align: right;\n",
       "    }\n",
       "</style>\n",
       "<table border=\"1\" class=\"dataframe\">\n",
       "  <thead>\n",
       "    <tr style=\"text-align: right;\">\n",
       "      <th></th>\n",
       "      <th>Age</th>\n",
       "      <th>Product</th>\n",
       "      <th>count</th>\n",
       "    </tr>\n",
       "  </thead>\n",
       "  <tbody>\n",
       "    <tr>\n",
       "      <th>16</th>\n",
       "      <td>25</td>\n",
       "      <td>KP481</td>\n",
       "      <td>11</td>\n",
       "    </tr>\n",
       "    <tr>\n",
       "      <th>9</th>\n",
       "      <td>23</td>\n",
       "      <td>KP281</td>\n",
       "      <td>8</td>\n",
       "    </tr>\n",
       "    <tr>\n",
       "      <th>17</th>\n",
       "      <td>25</td>\n",
       "      <td>KP781</td>\n",
       "      <td>7</td>\n",
       "    </tr>\n",
       "    <tr>\n",
       "      <th>18</th>\n",
       "      <td>26</td>\n",
       "      <td>KP281</td>\n",
       "      <td>7</td>\n",
       "    </tr>\n",
       "    <tr>\n",
       "      <th>15</th>\n",
       "      <td>25</td>\n",
       "      <td>KP281</td>\n",
       "      <td>7</td>\n",
       "    </tr>\n",
       "    <tr>\n",
       "      <th>10</th>\n",
       "      <td>23</td>\n",
       "      <td>KP481</td>\n",
       "      <td>7</td>\n",
       "    </tr>\n",
       "    <tr>\n",
       "      <th>24</th>\n",
       "      <td>28</td>\n",
       "      <td>KP281</td>\n",
       "      <td>6</td>\n",
       "    </tr>\n",
       "    <tr>\n",
       "      <th>12</th>\n",
       "      <td>24</td>\n",
       "      <td>KP281</td>\n",
       "      <td>5</td>\n",
       "    </tr>\n",
       "    <tr>\n",
       "      <th>38</th>\n",
       "      <td>33</td>\n",
       "      <td>KP481</td>\n",
       "      <td>5</td>\n",
       "    </tr>\n",
       "    <tr>\n",
       "      <th>7</th>\n",
       "      <td>22</td>\n",
       "      <td>KP281</td>\n",
       "      <td>4</td>\n",
       "    </tr>\n",
       "    <tr>\n",
       "      <th>5</th>\n",
       "      <td>21</td>\n",
       "      <td>KP281</td>\n",
       "      <td>4</td>\n",
       "    </tr>\n",
       "    <tr>\n",
       "      <th>14</th>\n",
       "      <td>24</td>\n",
       "      <td>KP781</td>\n",
       "      <td>4</td>\n",
       "    </tr>\n",
       "    <tr>\n",
       "      <th>49</th>\n",
       "      <td>38</td>\n",
       "      <td>KP281</td>\n",
       "      <td>4</td>\n",
       "    </tr>\n",
       "    <tr>\n",
       "      <th>44</th>\n",
       "      <td>35</td>\n",
       "      <td>KP481</td>\n",
       "      <td>4</td>\n",
       "    </tr>\n",
       "    <tr>\n",
       "      <th>54</th>\n",
       "      <td>40</td>\n",
       "      <td>KP481</td>\n",
       "      <td>3</td>\n",
       "    </tr>\n",
       "    <tr>\n",
       "      <th>26</th>\n",
       "      <td>29</td>\n",
       "      <td>KP281</td>\n",
       "      <td>3</td>\n",
       "    </tr>\n",
       "    <tr>\n",
       "      <th>21</th>\n",
       "      <td>27</td>\n",
       "      <td>KP281</td>\n",
       "      <td>3</td>\n",
       "    </tr>\n",
       "    <tr>\n",
       "      <th>25</th>\n",
       "      <td>28</td>\n",
       "      <td>KP781</td>\n",
       "      <td>3</td>\n",
       "    </tr>\n",
       "    <tr>\n",
       "      <th>31</th>\n",
       "      <td>30</td>\n",
       "      <td>KP781</td>\n",
       "      <td>3</td>\n",
       "    </tr>\n",
       "    <tr>\n",
       "      <th>43</th>\n",
       "      <td>35</td>\n",
       "      <td>KP281</td>\n",
       "      <td>3</td>\n",
       "    </tr>\n",
       "  </tbody>\n",
       "</table>\n",
       "</div>"
      ],
      "text/plain": [
       "    Age Product  count\n",
       "16   25   KP481     11\n",
       "9    23   KP281      8\n",
       "17   25   KP781      7\n",
       "18   26   KP281      7\n",
       "15   25   KP281      7\n",
       "10   23   KP481      7\n",
       "24   28   KP281      6\n",
       "12   24   KP281      5\n",
       "38   33   KP481      5\n",
       "7    22   KP281      4\n",
       "5    21   KP281      4\n",
       "14   24   KP781      4\n",
       "49   38   KP281      4\n",
       "44   35   KP481      4\n",
       "54   40   KP481      3\n",
       "26   29   KP281      3\n",
       "21   27   KP281      3\n",
       "25   28   KP781      3\n",
       "31   30   KP781      3\n",
       "43   35   KP281      3"
      ]
     },
     "execution_count": 39,
     "metadata": {},
     "output_type": "execute_result"
    }
   ],
   "source": [
    "by_age_product = df.groupby([\"Age\",\"Product\"]).size().reset_index(name=\"count\").sort_values(\"count\",ascending=False).head(20)\n",
    "by_age_product"
   ]
  },
  {
   "cell_type": "code",
   "execution_count": 40,
   "id": "5b93d982",
   "metadata": {},
   "outputs": [
    {
     "data": {
      "image/png": "[encoded data removed]",
      "text/plain": [
       "<Figure size 640x480 with 1 Axes>"
      ]
     },
     "metadata": {},
     "output_type": "display_data"
    }
   ],
   "source": [
    "sns.barplot(x=\"Age\",y=\"count\",hue = \"Product\", data= by_age_product)\n",
    "plt.xlabel(\"Age Group\")\n",
    "plt.ylabel(\"Number of Products\")\n",
    "plt.title(\"Top 20 Product Frequency by Age Group\")\n",
    "plt.xticks(rotation=0)\n",
    "plt.show()"
   ]
  },
  {
   "cell_type": "markdown",
   "id": "a843b5ba",
   "metadata": {},
   "source": [
    "###  INSIGHTS Plot 3- By product type, the Age group of 25 dominates the purchase followed by the age group 23 and 26.  Among age group 25, the mid model is the most purchased in high numbers followed by other 2 models. Age group 23 have high purchased on entry model followed by mid model. No purchase of advanced model. Whereas age group 26 have all purchased the mid model. "
   ]
  },
  {
   "cell_type": "code",
   "execution_count": 41,
   "id": "88e4e219",
   "metadata": {},
   "outputs": [
    {
     "data": {
      "text/html": [
       "<div>\n",
       "<style scoped>\n",
       "    .dataframe tbody tr th:only-of-type {\n",
       "        vertical-align: middle;\n",
       "    }\n",
       "\n",
       "    .dataframe tbody tr th {\n",
       "        vertical-align: top;\n",
       "    }\n",
       "\n",
       "    .dataframe thead th {\n",
       "        text-align: right;\n",
       "    }\n",
       "</style>\n",
       "<table border=\"1\" class=\"dataframe\">\n",
       "  <thead>\n",
       "    <tr style=\"text-align: right;\">\n",
       "      <th></th>\n",
       "      <th>Gender</th>\n",
       "      <th>Product</th>\n",
       "      <th>count</th>\n",
       "    </tr>\n",
       "  </thead>\n",
       "  <tbody>\n",
       "    <tr>\n",
       "      <th>0</th>\n",
       "      <td>Female</td>\n",
       "      <td>KP281</td>\n",
       "      <td>40</td>\n",
       "    </tr>\n",
       "    <tr>\n",
       "      <th>3</th>\n",
       "      <td>Male</td>\n",
       "      <td>KP281</td>\n",
       "      <td>40</td>\n",
       "    </tr>\n",
       "    <tr>\n",
       "      <th>5</th>\n",
       "      <td>Male</td>\n",
       "      <td>KP781</td>\n",
       "      <td>33</td>\n",
       "    </tr>\n",
       "    <tr>\n",
       "      <th>4</th>\n",
       "      <td>Male</td>\n",
       "      <td>KP481</td>\n",
       "      <td>31</td>\n",
       "    </tr>\n",
       "    <tr>\n",
       "      <th>1</th>\n",
       "      <td>Female</td>\n",
       "      <td>KP481</td>\n",
       "      <td>29</td>\n",
       "    </tr>\n",
       "    <tr>\n",
       "      <th>2</th>\n",
       "      <td>Female</td>\n",
       "      <td>KP781</td>\n",
       "      <td>7</td>\n",
       "    </tr>\n",
       "  </tbody>\n",
       "</table>\n",
       "</div>"
      ],
      "text/plain": [
       "   Gender Product  count\n",
       "0  Female   KP281     40\n",
       "3    Male   KP281     40\n",
       "5    Male   KP781     33\n",
       "4    Male   KP481     31\n",
       "1  Female   KP481     29\n",
       "2  Female   KP781      7"
      ]
     },
     "execution_count": 41,
     "metadata": {},
     "output_type": "execute_result"
    }
   ],
   "source": [
    "by_gender_product = df.groupby([\"Gender\",\"Product\"]).size().reset_index(name=\"count\").sort_values(\"count\",ascending=False)\n",
    "by_gender_product"
   ]
  },
  {
   "cell_type": "code",
   "execution_count": 42,
   "id": "1774d419",
   "metadata": {},
   "outputs": [
    {
     "data": {
      "image/png": "[encoded data removed]",
      "text/plain": [
       "<Figure size 700x600 with 1 Axes>"
      ]
     },
     "metadata": {},
     "output_type": "display_data"
    }
   ],
   "source": [
    "plt.figure(figsize=(7,6))\n",
    "sns.barplot(x=\"Gender\",y=\"count\",hue = \"Product\", data= by_gender_product)\n",
    "plt.xlabel(\"Gender\")\n",
    "plt.ylabel(\"Number of Products\")\n",
    "plt.title(\"Product Frequency by Gender Group\")\n",
    "plt.xticks(rotation=0)\n",
    "plt.show()"
   ]
  },
  {
   "cell_type": "markdown",
   "id": "37186c5e",
   "metadata": {},
   "source": [
    "### INSIGHTS Plot 4- Male gender dominates more purchase among all type of treadmills. But there is equal purchase happend among entry model from both gender group. This indicates the most prefered model is the entry level."
   ]
  },
  {
   "cell_type": "code",
   "execution_count": 43,
   "id": "9f9c5640",
   "metadata": {},
   "outputs": [
    {
     "data": {
      "text/html": [
       "<div>\n",
       "<style scoped>\n",
       "    .dataframe tbody tr th:only-of-type {\n",
       "        vertical-align: middle;\n",
       "    }\n",
       "\n",
       "    .dataframe tbody tr th {\n",
       "        vertical-align: top;\n",
       "    }\n",
       "\n",
       "    .dataframe thead th {\n",
       "        text-align: right;\n",
       "    }\n",
       "</style>\n",
       "<table border=\"1\" class=\"dataframe\">\n",
       "  <thead>\n",
       "    <tr style=\"text-align: right;\">\n",
       "      <th></th>\n",
       "      <th>MaritalStatus</th>\n",
       "      <th>Product</th>\n",
       "      <th>count</th>\n",
       "    </tr>\n",
       "  </thead>\n",
       "  <tbody>\n",
       "    <tr>\n",
       "      <th>0</th>\n",
       "      <td>Partnered</td>\n",
       "      <td>KP281</td>\n",
       "      <td>48</td>\n",
       "    </tr>\n",
       "    <tr>\n",
       "      <th>1</th>\n",
       "      <td>Partnered</td>\n",
       "      <td>KP481</td>\n",
       "      <td>36</td>\n",
       "    </tr>\n",
       "    <tr>\n",
       "      <th>3</th>\n",
       "      <td>Single</td>\n",
       "      <td>KP281</td>\n",
       "      <td>32</td>\n",
       "    </tr>\n",
       "    <tr>\n",
       "      <th>4</th>\n",
       "      <td>Single</td>\n",
       "      <td>KP481</td>\n",
       "      <td>24</td>\n",
       "    </tr>\n",
       "    <tr>\n",
       "      <th>2</th>\n",
       "      <td>Partnered</td>\n",
       "      <td>KP781</td>\n",
       "      <td>23</td>\n",
       "    </tr>\n",
       "    <tr>\n",
       "      <th>5</th>\n",
       "      <td>Single</td>\n",
       "      <td>KP781</td>\n",
       "      <td>17</td>\n",
       "    </tr>\n",
       "  </tbody>\n",
       "</table>\n",
       "</div>"
      ],
      "text/plain": [
       "  MaritalStatus Product  count\n",
       "0     Partnered   KP281     48\n",
       "1     Partnered   KP481     36\n",
       "3        Single   KP281     32\n",
       "4        Single   KP481     24\n",
       "2     Partnered   KP781     23\n",
       "5        Single   KP781     17"
      ]
     },
     "execution_count": 43,
     "metadata": {},
     "output_type": "execute_result"
    }
   ],
   "source": [
    "by_marital_product = df.groupby([\"MaritalStatus\",\"Product\"]).size().reset_index(name=\"count\").sort_values(\"count\",ascending=False).head(10)\n",
    "by_marital_product"
   ]
  },
  {
   "cell_type": "code",
   "execution_count": 44,
   "id": "dd6c9ce6",
   "metadata": {},
   "outputs": [
    {
     "data": {
      "image/png": "[encoded data removed]",
      "text/plain": [
       "<Figure size 700x600 with 1 Axes>"
      ]
     },
     "metadata": {},
     "output_type": "display_data"
    }
   ],
   "source": [
    "plt.figure(figsize=(7,6))\n",
    "sns.barplot(x=\"MaritalStatus\",y=\"count\",hue = \"Product\", data= by_marital_product)\n",
    "plt.xlabel(\"Marital Status\")\n",
    "plt.ylabel(\"Number of Products\")\n",
    "plt.title(\"Product Frequency by Marital Status Group\")\n",
    "plt.xticks(rotation=0)\n",
    "plt.show()"
   ]
  },
  {
   "cell_type": "markdown",
   "id": "2885b8c6",
   "metadata": {},
   "source": [
    "### INSIGHTS Plot 5- Partnered dominates more purchase among all type of treadmills.  This indicates the most prefered model among parterners is the entry level model followed by mid and advanced models."
   ]
  },
  {
   "cell_type": "code",
   "execution_count": 46,
   "id": "e7df6e8d",
   "metadata": {
    "scrolled": true
   },
   "outputs": [
    {
     "data": {
      "text/html": [
       "<div>\n",
       "<style scoped>\n",
       "    .dataframe tbody tr th:only-of-type {\n",
       "        vertical-align: middle;\n",
       "    }\n",
       "\n",
       "    .dataframe tbody tr th {\n",
       "        vertical-align: top;\n",
       "    }\n",
       "\n",
       "    .dataframe thead th {\n",
       "        text-align: right;\n",
       "    }\n",
       "</style>\n",
       "<table border=\"1\" class=\"dataframe\">\n",
       "  <thead>\n",
       "    <tr style=\"text-align: right;\">\n",
       "      <th></th>\n",
       "      <th>Product</th>\n",
       "      <th>Age</th>\n",
       "      <th>Gender</th>\n",
       "      <th>Education</th>\n",
       "      <th>MaritalStatus</th>\n",
       "      <th>Usage</th>\n",
       "      <th>Fitness</th>\n",
       "      <th>Income</th>\n",
       "      <th>Miles</th>\n",
       "    </tr>\n",
       "  </thead>\n",
       "  <tbody>\n",
       "    <tr>\n",
       "      <th>53</th>\n",
       "      <td>KP281</td>\n",
       "      <td>30</td>\n",
       "      <td>Male</td>\n",
       "      <td>14</td>\n",
       "      <td>Partnered</td>\n",
       "      <td>4</td>\n",
       "      <td>4</td>\n",
       "      <td>46617</td>\n",
       "      <td>141</td>\n",
       "    </tr>\n",
       "    <tr>\n",
       "      <th>114</th>\n",
       "      <td>KP481</td>\n",
       "      <td>30</td>\n",
       "      <td>Female</td>\n",
       "      <td>13</td>\n",
       "      <td>Single</td>\n",
       "      <td>4</td>\n",
       "      <td>3</td>\n",
       "      <td>46617</td>\n",
       "      <td>106</td>\n",
       "    </tr>\n",
       "    <tr>\n",
       "      <th>179</th>\n",
       "      <td>KP781</td>\n",
       "      <td>48</td>\n",
       "      <td>Male</td>\n",
       "      <td>18</td>\n",
       "      <td>Partnered</td>\n",
       "      <td>4</td>\n",
       "      <td>5</td>\n",
       "      <td>95508</td>\n",
       "      <td>180</td>\n",
       "    </tr>\n",
       "    <tr>\n",
       "      <th>142</th>\n",
       "      <td>KP781</td>\n",
       "      <td>22</td>\n",
       "      <td>Male</td>\n",
       "      <td>18</td>\n",
       "      <td>Single</td>\n",
       "      <td>4</td>\n",
       "      <td>5</td>\n",
       "      <td>48556</td>\n",
       "      <td>200</td>\n",
       "    </tr>\n",
       "    <tr>\n",
       "      <th>165</th>\n",
       "      <td>KP781</td>\n",
       "      <td>29</td>\n",
       "      <td>Male</td>\n",
       "      <td>18</td>\n",
       "      <td>Single</td>\n",
       "      <td>5</td>\n",
       "      <td>5</td>\n",
       "      <td>52290</td>\n",
       "      <td>180</td>\n",
       "    </tr>\n",
       "  </tbody>\n",
       "</table>\n",
       "</div>"
      ],
      "text/plain": [
       "    Product  Age  Gender  Education MaritalStatus  Usage  Fitness  Income  \\\n",
       "53    KP281   30    Male         14     Partnered      4        4   46617   \n",
       "114   KP481   30  Female         13        Single      4        3   46617   \n",
       "179   KP781   48    Male         18     Partnered      4        5   95508   \n",
       "142   KP781   22    Male         18        Single      4        5   48556   \n",
       "165   KP781   29    Male         18        Single      5        5   52290   \n",
       "\n",
       "     Miles  \n",
       "53     141  \n",
       "114    106  \n",
       "179    180  \n",
       "142    200  \n",
       "165    180  "
      ]
     },
     "execution_count": 46,
     "metadata": {},
     "output_type": "execute_result"
    }
   ],
   "source": [
    "df.sample(5)"
   ]
  },
  {
   "cell_type": "markdown",
   "id": "988b69f5",
   "metadata": {},
   "source": [
    "# Contigency Table Analysis"
   ]
  },
  {
   "cell_type": "markdown",
   "id": "545272d7",
   "metadata": {},
   "source": [
    "### Purchasing Trends of KP281, KP481, KP781 models By Age,Marital Status, Age, Education & Income"
   ]
  },
  {
   "cell_type": "markdown",
   "id": "6fba907d",
   "metadata": {},
   "source": [
    "### Gender"
   ]
  },
  {
   "cell_type": "code",
   "execution_count": 47,
   "id": "7fd9df77",
   "metadata": {},
   "outputs": [
    {
     "data": {
      "text/html": [
       "<div>\n",
       "<style scoped>\n",
       "    .dataframe tbody tr th:only-of-type {\n",
       "        vertical-align: middle;\n",
       "    }\n",
       "\n",
       "    .dataframe tbody tr th {\n",
       "        vertical-align: top;\n",
       "    }\n",
       "\n",
       "    .dataframe thead th {\n",
       "        text-align: right;\n",
       "    }\n",
       "</style>\n",
       "<table border=\"1\" class=\"dataframe\">\n",
       "  <thead>\n",
       "    <tr style=\"text-align: right;\">\n",
       "      <th>Product</th>\n",
       "      <th>KP281</th>\n",
       "      <th>KP481</th>\n",
       "      <th>KP781</th>\n",
       "      <th>Total</th>\n",
       "    </tr>\n",
       "    <tr>\n",
       "      <th>Gender</th>\n",
       "      <th></th>\n",
       "      <th></th>\n",
       "      <th></th>\n",
       "      <th></th>\n",
       "    </tr>\n",
       "  </thead>\n",
       "  <tbody>\n",
       "    <tr>\n",
       "      <th>Female</th>\n",
       "      <td>40</td>\n",
       "      <td>29</td>\n",
       "      <td>7</td>\n",
       "      <td>76</td>\n",
       "    </tr>\n",
       "    <tr>\n",
       "      <th>Male</th>\n",
       "      <td>40</td>\n",
       "      <td>31</td>\n",
       "      <td>33</td>\n",
       "      <td>104</td>\n",
       "    </tr>\n",
       "    <tr>\n",
       "      <th>Total</th>\n",
       "      <td>80</td>\n",
       "      <td>60</td>\n",
       "      <td>40</td>\n",
       "      <td>180</td>\n",
       "    </tr>\n",
       "  </tbody>\n",
       "</table>\n",
       "</div>"
      ],
      "text/plain": [
       "Product  KP281  KP481  KP781  Total\n",
       "Gender                             \n",
       "Female      40     29      7     76\n",
       "Male        40     31     33    104\n",
       "Total       80     60     40    180"
      ]
     },
     "execution_count": 47,
     "metadata": {},
     "output_type": "execute_result"
    }
   ],
   "source": [
    "pd.crosstab(df[\"Gender\"],df[\"Product\"],margins=True, margins_name=\"Total\")"
   ]
  },
  {
   "cell_type": "markdown",
   "id": "ec823f80",
   "metadata": {},
   "source": [
    "#### KP281"
   ]
  },
  {
   "cell_type": "code",
   "execution_count": 48,
   "id": "d600d4c5",
   "metadata": {},
   "outputs": [
    {
     "data": {
      "text/plain": [
       "44.44"
      ]
     },
     "execution_count": 48,
     "metadata": {},
     "output_type": "execute_result"
    }
   ],
   "source": [
    "pf_281 = np.round((80/180)*100,2) #KP281 model\n",
    "pf_281"
   ]
  },
  {
   "cell_type": "code",
   "execution_count": 49,
   "id": "81633a66",
   "metadata": {},
   "outputs": [
    {
     "data": {
      "text/plain": [
       "50.0"
      ]
     },
     "execution_count": 49,
     "metadata": {},
     "output_type": "execute_result"
    }
   ],
   "source": [
    "pf_281_f = np.round((40/80)*100,2) #KP281 and Female\n",
    "pf_281_f"
   ]
  },
  {
   "cell_type": "code",
   "execution_count": 50,
   "id": "a711d20f",
   "metadata": {},
   "outputs": [
    {
     "data": {
      "text/plain": [
       "50.0"
      ]
     },
     "execution_count": 50,
     "metadata": {},
     "output_type": "execute_result"
    }
   ],
   "source": [
    "pf_281_m = np.round((40/80)*100,2) #KP281 and Male\n",
    "pf_281_m"
   ]
  },
  {
   "cell_type": "markdown",
   "id": "e884003d",
   "metadata": {},
   "source": [
    "----------------------------------------------------------------------------------------------------------------------------"
   ]
  },
  {
   "cell_type": "markdown",
   "id": "40b3f788",
   "metadata": {},
   "source": [
    "#### KP481"
   ]
  },
  {
   "cell_type": "code",
   "execution_count": 51,
   "id": "2a6131ce",
   "metadata": {},
   "outputs": [
    {
     "data": {
      "text/plain": [
       "33.33"
      ]
     },
     "execution_count": 51,
     "metadata": {},
     "output_type": "execute_result"
    }
   ],
   "source": [
    "pf_481 = np.round((60/180)*100,2)\n",
    "pf_481"
   ]
  },
  {
   "cell_type": "code",
   "execution_count": 52,
   "id": "6060e4da",
   "metadata": {},
   "outputs": [
    {
     "data": {
      "text/plain": [
       "48.33"
      ]
     },
     "execution_count": 52,
     "metadata": {},
     "output_type": "execute_result"
    }
   ],
   "source": [
    "pf_481_f = np.round((29/60)*100,2)\n",
    "pf_481_f"
   ]
  },
  {
   "cell_type": "code",
   "execution_count": 53,
   "id": "87ad278c",
   "metadata": {},
   "outputs": [
    {
     "data": {
      "text/plain": [
       "51.67"
      ]
     },
     "execution_count": 53,
     "metadata": {},
     "output_type": "execute_result"
    }
   ],
   "source": [
    "pf_481_m = np.round((31/60)*100,2)\n",
    "pf_481_m"
   ]
  },
  {
   "cell_type": "markdown",
   "id": "126e52f2",
   "metadata": {},
   "source": [
    "---------------------------------------------------------------------------------------------------------------------------"
   ]
  },
  {
   "cell_type": "markdown",
   "id": "5754349f",
   "metadata": {},
   "source": [
    "#### KP781"
   ]
  },
  {
   "cell_type": "code",
   "execution_count": 54,
   "id": "0738c3d1",
   "metadata": {},
   "outputs": [
    {
     "data": {
      "text/plain": [
       "22.22"
      ]
     },
     "execution_count": 54,
     "metadata": {},
     "output_type": "execute_result"
    }
   ],
   "source": [
    "pf_781 = np.round((40/180)*100,2)\n",
    "pf_781"
   ]
  },
  {
   "cell_type": "code",
   "execution_count": 55,
   "id": "b6dafecf",
   "metadata": {},
   "outputs": [
    {
     "data": {
      "text/plain": [
       "17.5"
      ]
     },
     "execution_count": 55,
     "metadata": {},
     "output_type": "execute_result"
    }
   ],
   "source": [
    "pf_781_f = np.round((7/40)*100,2)\n",
    "pf_781_f"
   ]
  },
  {
   "cell_type": "code",
   "execution_count": 56,
   "id": "6925772b",
   "metadata": {},
   "outputs": [
    {
     "data": {
      "text/plain": [
       "82.5"
      ]
     },
     "execution_count": 56,
     "metadata": {},
     "output_type": "execute_result"
    }
   ],
   "source": [
    "pf_781_m = np.round((33/40)*100,2)\n",
    "pf_781_m"
   ]
  },
  {
   "cell_type": "markdown",
   "id": "819ab197",
   "metadata": {},
   "source": [
    "---------------------------------------------------------------------------------------------------------------------"
   ]
  },
  {
   "cell_type": "code",
   "execution_count": 57,
   "id": "ac3e6405",
   "metadata": {},
   "outputs": [
    {
     "data": {
      "text/plain": [
       "57.78"
      ]
     },
     "execution_count": 57,
     "metadata": {},
     "output_type": "execute_result"
    }
   ],
   "source": [
    "pf_male = np.round((104/180)*100,2)\n",
    "pf_male"
   ]
  },
  {
   "cell_type": "code",
   "execution_count": 58,
   "id": "db1f3a3b",
   "metadata": {},
   "outputs": [
    {
     "data": {
      "text/plain": [
       "42.22"
      ]
     },
     "execution_count": 58,
     "metadata": {},
     "output_type": "execute_result"
    }
   ],
   "source": [
    "pf_female = np.round((76/180)*100,2)\n",
    "pf_female"
   ]
  },
  {
   "cell_type": "markdown",
   "id": "0863d6c6",
   "metadata": {},
   "source": [
    "### Key findings from the purchase data analysis by Gender type:\n",
    "\n",
    "**Model Popularity:**\n",
    "\n",
    "- Entry-level model (KP281): Leads in sales (44.44%). Interestingly, the purchase distribution between males and females for this model seems balanced (around 50% each).\n",
    "- Mid-level model (KP481): Follows in popularity (33.33%). Here, males dominate purchases (51.67%) compared to females (48.33%).\n",
    "- Advanced model (KP781): Holds the third position (22.22%). The gender gap is even wider with males purchasing significantly more (82.5%) than females (17.5%).\n",
    "- Males are the primary customer base (57.78%), with females accounting for 42.22% of purchases across all models.\n",
    "\n",
    "**Key Points**:\n",
    "\n",
    "- Entry-level model is the clear leader, but gender distribution equally distributed among this model as well.\n",
    "- Mid-level model shows a male bias in purchases.\n",
    "- Advanced model has a significant male dominance."
   ]
  },
  {
   "cell_type": "markdown",
   "id": "91bce9cb",
   "metadata": {},
   "source": [
    "### Marital Status"
   ]
  },
  {
   "cell_type": "code",
   "execution_count": 59,
   "id": "5083c5fe",
   "metadata": {
    "scrolled": true
   },
   "outputs": [
    {
     "data": {
      "text/html": [
       "<div>\n",
       "<style scoped>\n",
       "    .dataframe tbody tr th:only-of-type {\n",
       "        vertical-align: middle;\n",
       "    }\n",
       "\n",
       "    .dataframe tbody tr th {\n",
       "        vertical-align: top;\n",
       "    }\n",
       "\n",
       "    .dataframe thead th {\n",
       "        text-align: right;\n",
       "    }\n",
       "</style>\n",
       "<table border=\"1\" class=\"dataframe\">\n",
       "  <thead>\n",
       "    <tr style=\"text-align: right;\">\n",
       "      <th>Product</th>\n",
       "      <th>KP281</th>\n",
       "      <th>KP481</th>\n",
       "      <th>KP781</th>\n",
       "      <th>All</th>\n",
       "    </tr>\n",
       "    <tr>\n",
       "      <th>MaritalStatus</th>\n",
       "      <th></th>\n",
       "      <th></th>\n",
       "      <th></th>\n",
       "      <th></th>\n",
       "    </tr>\n",
       "  </thead>\n",
       "  <tbody>\n",
       "    <tr>\n",
       "      <th>Partnered</th>\n",
       "      <td>48</td>\n",
       "      <td>36</td>\n",
       "      <td>23</td>\n",
       "      <td>107</td>\n",
       "    </tr>\n",
       "    <tr>\n",
       "      <th>Single</th>\n",
       "      <td>32</td>\n",
       "      <td>24</td>\n",
       "      <td>17</td>\n",
       "      <td>73</td>\n",
       "    </tr>\n",
       "    <tr>\n",
       "      <th>All</th>\n",
       "      <td>80</td>\n",
       "      <td>60</td>\n",
       "      <td>40</td>\n",
       "      <td>180</td>\n",
       "    </tr>\n",
       "  </tbody>\n",
       "</table>\n",
       "</div>"
      ],
      "text/plain": [
       "Product        KP281  KP481  KP781  All\n",
       "MaritalStatus                          \n",
       "Partnered         48     36     23  107\n",
       "Single            32     24     17   73\n",
       "All               80     60     40  180"
      ]
     },
     "execution_count": 59,
     "metadata": {},
     "output_type": "execute_result"
    }
   ],
   "source": [
    "pd.crosstab(df[\"MaritalStatus\"],df[\"Product\"],margins=True)"
   ]
  },
  {
   "cell_type": "markdown",
   "id": "400f92f6",
   "metadata": {},
   "source": [
    "#### KP281"
   ]
  },
  {
   "cell_type": "code",
   "execution_count": 60,
   "id": "4f5bae62",
   "metadata": {},
   "outputs": [
    {
     "data": {
      "text/plain": [
       "40.0"
      ]
     },
     "execution_count": 60,
     "metadata": {},
     "output_type": "execute_result"
    }
   ],
   "source": [
    "pf_281_s = np.round((32/80)*100,2)\n",
    "pf_281_s"
   ]
  },
  {
   "cell_type": "code",
   "execution_count": 61,
   "id": "7c1801f3",
   "metadata": {},
   "outputs": [
    {
     "data": {
      "text/plain": [
       "60.0"
      ]
     },
     "execution_count": 61,
     "metadata": {},
     "output_type": "execute_result"
    }
   ],
   "source": [
    "pf_281_p = np.round((48/80)*100,2)\n",
    "pf_281_p"
   ]
  },
  {
   "cell_type": "markdown",
   "id": "11041546",
   "metadata": {},
   "source": [
    "#### KP481"
   ]
  },
  {
   "cell_type": "code",
   "execution_count": 62,
   "id": "64e8c6d8",
   "metadata": {},
   "outputs": [
    {
     "data": {
      "text/plain": [
       "40.0"
      ]
     },
     "execution_count": 62,
     "metadata": {},
     "output_type": "execute_result"
    }
   ],
   "source": [
    "pf_481_s = np.round((24/60)*100,2)\n",
    "pf_481_s"
   ]
  },
  {
   "cell_type": "code",
   "execution_count": 63,
   "id": "cc4fef2f",
   "metadata": {},
   "outputs": [
    {
     "data": {
      "text/plain": [
       "60.0"
      ]
     },
     "execution_count": 63,
     "metadata": {},
     "output_type": "execute_result"
    }
   ],
   "source": [
    "pf_481_p = np.round((36/60)*100,2)\n",
    "pf_481_p"
   ]
  },
  {
   "cell_type": "markdown",
   "id": "d863ddc9",
   "metadata": {},
   "source": [
    "#### KP781"
   ]
  },
  {
   "cell_type": "code",
   "execution_count": 64,
   "id": "38f33048",
   "metadata": {},
   "outputs": [
    {
     "data": {
      "text/plain": [
       "42.5"
      ]
     },
     "execution_count": 64,
     "metadata": {},
     "output_type": "execute_result"
    }
   ],
   "source": [
    "pf_781_s = np.round((17/40)*100,2)\n",
    "pf_781_s"
   ]
  },
  {
   "cell_type": "code",
   "execution_count": 65,
   "id": "fe8a75ad",
   "metadata": {},
   "outputs": [
    {
     "data": {
      "text/plain": [
       "57.5"
      ]
     },
     "execution_count": 65,
     "metadata": {},
     "output_type": "execute_result"
    }
   ],
   "source": [
    "pf_781_p = np.round((23/40)*100,2)\n",
    "pf_781_p"
   ]
  },
  {
   "cell_type": "markdown",
   "id": "591100f9",
   "metadata": {},
   "source": [
    "---------------------------------------------------------------------------------------------------------------------------"
   ]
  },
  {
   "cell_type": "code",
   "execution_count": 66,
   "id": "79ab5dce",
   "metadata": {},
   "outputs": [
    {
     "data": {
      "text/plain": [
       "40.56"
      ]
     },
     "execution_count": 66,
     "metadata": {},
     "output_type": "execute_result"
    }
   ],
   "source": [
    "pf_single = np.round((73/180)*100,2)\n",
    "pf_single"
   ]
  },
  {
   "cell_type": "code",
   "execution_count": 67,
   "id": "24c3b8fd",
   "metadata": {},
   "outputs": [
    {
     "data": {
      "text/plain": [
       "59.44"
      ]
     },
     "execution_count": 67,
     "metadata": {},
     "output_type": "execute_result"
    }
   ],
   "source": [
    "pf_partnered = np.round((107/180)*100,2)\n",
    "pf_partnered"
   ]
  },
  {
   "cell_type": "markdown",
   "id": "7f134dd6",
   "metadata": {},
   "source": [
    "### Key findings from the purchase data analysis by Marital Status include:\n",
    "\n",
    "**Model Popularity:**\n",
    "\n",
    "- Entry-level model (KP281): Leads in sales (44.44%). Here the purchase distribution between single and partners, dominate (60%) compared to singles (\n",
    "- Mid-level model (KP481): Follows in popularity (33.33%). Here, partner dominate purchases (60%) compared to females (40%) alike the entry level model.\n",
    "- Advanced model (KP781): Holds the third position (22.22%). Here, partner dominate purchases (59.44%) compared to females (40.56%).\n",
    "\n",
    "**Key Points**:\n",
    "\n",
    "- Among Marital status, its the Entry-level model & Mid Level model is the clear leader, showing partners purchased more comparted to singles.\n",
    "- Advanced model has a significant purchases from partners compared to singles. "
   ]
  },
  {
   "cell_type": "markdown",
   "id": "b1e958c2",
   "metadata": {},
   "source": [
    "### Age"
   ]
  },
  {
   "cell_type": "code",
   "execution_count": 68,
   "id": "3a9545c5",
   "metadata": {},
   "outputs": [
    {
     "data": {
      "text/html": [
       "<div>\n",
       "<style scoped>\n",
       "    .dataframe tbody tr th:only-of-type {\n",
       "        vertical-align: middle;\n",
       "    }\n",
       "\n",
       "    .dataframe tbody tr th {\n",
       "        vertical-align: top;\n",
       "    }\n",
       "\n",
       "    .dataframe thead th {\n",
       "        text-align: right;\n",
       "    }\n",
       "</style>\n",
       "<table border=\"1\" class=\"dataframe\">\n",
       "  <thead>\n",
       "    <tr style=\"text-align: right;\">\n",
       "      <th>Product</th>\n",
       "      <th>KP281</th>\n",
       "      <th>KP481</th>\n",
       "      <th>KP781</th>\n",
       "      <th>All</th>\n",
       "    </tr>\n",
       "    <tr>\n",
       "      <th>Age</th>\n",
       "      <th></th>\n",
       "      <th></th>\n",
       "      <th></th>\n",
       "      <th></th>\n",
       "    </tr>\n",
       "  </thead>\n",
       "  <tbody>\n",
       "    <tr>\n",
       "      <th>All</th>\n",
       "      <td>0.444444</td>\n",
       "      <td>0.333333</td>\n",
       "      <td>0.222222</td>\n",
       "      <td>1.000000</td>\n",
       "    </tr>\n",
       "    <tr>\n",
       "      <th>25</th>\n",
       "      <td>0.038889</td>\n",
       "      <td>0.061111</td>\n",
       "      <td>0.038889</td>\n",
       "      <td>0.138889</td>\n",
       "    </tr>\n",
       "    <tr>\n",
       "      <th>23</th>\n",
       "      <td>0.044444</td>\n",
       "      <td>0.038889</td>\n",
       "      <td>0.016667</td>\n",
       "      <td>0.100000</td>\n",
       "    </tr>\n",
       "    <tr>\n",
       "      <th>24</th>\n",
       "      <td>0.027778</td>\n",
       "      <td>0.016667</td>\n",
       "      <td>0.022222</td>\n",
       "      <td>0.066667</td>\n",
       "    </tr>\n",
       "    <tr>\n",
       "      <th>26</th>\n",
       "      <td>0.038889</td>\n",
       "      <td>0.016667</td>\n",
       "      <td>0.011111</td>\n",
       "      <td>0.066667</td>\n",
       "    </tr>\n",
       "    <tr>\n",
       "      <th>28</th>\n",
       "      <td>0.033333</td>\n",
       "      <td>0.000000</td>\n",
       "      <td>0.016667</td>\n",
       "      <td>0.050000</td>\n",
       "    </tr>\n",
       "    <tr>\n",
       "      <th>33</th>\n",
       "      <td>0.011111</td>\n",
       "      <td>0.027778</td>\n",
       "      <td>0.005556</td>\n",
       "      <td>0.044444</td>\n",
       "    </tr>\n",
       "    <tr>\n",
       "      <th>35</th>\n",
       "      <td>0.016667</td>\n",
       "      <td>0.022222</td>\n",
       "      <td>0.005556</td>\n",
       "      <td>0.044444</td>\n",
       "    </tr>\n",
       "    <tr>\n",
       "      <th>38</th>\n",
       "      <td>0.022222</td>\n",
       "      <td>0.011111</td>\n",
       "      <td>0.005556</td>\n",
       "      <td>0.038889</td>\n",
       "    </tr>\n",
       "    <tr>\n",
       "      <th>21</th>\n",
       "      <td>0.022222</td>\n",
       "      <td>0.016667</td>\n",
       "      <td>0.000000</td>\n",
       "      <td>0.038889</td>\n",
       "    </tr>\n",
       "  </tbody>\n",
       "</table>\n",
       "</div>"
      ],
      "text/plain": [
       "Product     KP281     KP481     KP781       All\n",
       "Age                                            \n",
       "All      0.444444  0.333333  0.222222  1.000000\n",
       "25       0.038889  0.061111  0.038889  0.138889\n",
       "23       0.044444  0.038889  0.016667  0.100000\n",
       "24       0.027778  0.016667  0.022222  0.066667\n",
       "26       0.038889  0.016667  0.011111  0.066667\n",
       "28       0.033333  0.000000  0.016667  0.050000\n",
       "33       0.011111  0.027778  0.005556  0.044444\n",
       "35       0.016667  0.022222  0.005556  0.044444\n",
       "38       0.022222  0.011111  0.005556  0.038889\n",
       "21       0.022222  0.016667  0.000000  0.038889"
      ]
     },
     "execution_count": 68,
     "metadata": {},
     "output_type": "execute_result"
    }
   ],
   "source": [
    "pd.crosstab(df[\"Age\"],df[\"Product\"],margins=True,normalize=True).sort_values(\"All\",ascending=False).head(10)"
   ]
  },
  {
   "cell_type": "code",
   "execution_count": 70,
   "id": "701b4588",
   "metadata": {},
   "outputs": [
    {
     "data": {
      "text/html": [
       "<div>\n",
       "<style scoped>\n",
       "    .dataframe tbody tr th:only-of-type {\n",
       "        vertical-align: middle;\n",
       "    }\n",
       "\n",
       "    .dataframe tbody tr th {\n",
       "        vertical-align: top;\n",
       "    }\n",
       "\n",
       "    .dataframe thead th {\n",
       "        text-align: right;\n",
       "    }\n",
       "</style>\n",
       "<table border=\"1\" class=\"dataframe\">\n",
       "  <thead>\n",
       "    <tr style=\"text-align: right;\">\n",
       "      <th>Product</th>\n",
       "      <th>KP281</th>\n",
       "      <th>KP481</th>\n",
       "      <th>KP781</th>\n",
       "      <th>All</th>\n",
       "    </tr>\n",
       "    <tr>\n",
       "      <th>Age</th>\n",
       "      <th></th>\n",
       "      <th></th>\n",
       "      <th></th>\n",
       "      <th></th>\n",
       "    </tr>\n",
       "  </thead>\n",
       "  <tbody>\n",
       "    <tr>\n",
       "      <th>All</th>\n",
       "      <td>80</td>\n",
       "      <td>60</td>\n",
       "      <td>40</td>\n",
       "      <td>180</td>\n",
       "    </tr>\n",
       "    <tr>\n",
       "      <th>25</th>\n",
       "      <td>7</td>\n",
       "      <td>11</td>\n",
       "      <td>7</td>\n",
       "      <td>25</td>\n",
       "    </tr>\n",
       "    <tr>\n",
       "      <th>23</th>\n",
       "      <td>8</td>\n",
       "      <td>7</td>\n",
       "      <td>3</td>\n",
       "      <td>18</td>\n",
       "    </tr>\n",
       "    <tr>\n",
       "      <th>24</th>\n",
       "      <td>5</td>\n",
       "      <td>3</td>\n",
       "      <td>4</td>\n",
       "      <td>12</td>\n",
       "    </tr>\n",
       "    <tr>\n",
       "      <th>26</th>\n",
       "      <td>7</td>\n",
       "      <td>3</td>\n",
       "      <td>2</td>\n",
       "      <td>12</td>\n",
       "    </tr>\n",
       "    <tr>\n",
       "      <th>28</th>\n",
       "      <td>6</td>\n",
       "      <td>0</td>\n",
       "      <td>3</td>\n",
       "      <td>9</td>\n",
       "    </tr>\n",
       "    <tr>\n",
       "      <th>33</th>\n",
       "      <td>2</td>\n",
       "      <td>5</td>\n",
       "      <td>1</td>\n",
       "      <td>8</td>\n",
       "    </tr>\n",
       "    <tr>\n",
       "      <th>35</th>\n",
       "      <td>3</td>\n",
       "      <td>4</td>\n",
       "      <td>1</td>\n",
       "      <td>8</td>\n",
       "    </tr>\n",
       "    <tr>\n",
       "      <th>38</th>\n",
       "      <td>4</td>\n",
       "      <td>2</td>\n",
       "      <td>1</td>\n",
       "      <td>7</td>\n",
       "    </tr>\n",
       "    <tr>\n",
       "      <th>21</th>\n",
       "      <td>4</td>\n",
       "      <td>3</td>\n",
       "      <td>0</td>\n",
       "      <td>7</td>\n",
       "    </tr>\n",
       "  </tbody>\n",
       "</table>\n",
       "</div>"
      ],
      "text/plain": [
       "Product  KP281  KP481  KP781  All\n",
       "Age                              \n",
       "All         80     60     40  180\n",
       "25           7     11      7   25\n",
       "23           8      7      3   18\n",
       "24           5      3      4   12\n",
       "26           7      3      2   12\n",
       "28           6      0      3    9\n",
       "33           2      5      1    8\n",
       "35           3      4      1    8\n",
       "38           4      2      1    7\n",
       "21           4      3      0    7"
      ]
     },
     "execution_count": 70,
     "metadata": {},
     "output_type": "execute_result"
    }
   ],
   "source": [
    "pd.crosstab(df[\"Age\"],df[\"Product\"],margins=True).sort_values(\"All\",ascending=False).head(10)"
   ]
  },
  {
   "cell_type": "code",
   "execution_count": 71,
   "id": "fd3dcd54",
   "metadata": {},
   "outputs": [
    {
     "data": {
      "text/plain": [
       "5.0"
      ]
     },
     "execution_count": 71,
     "metadata": {},
     "output_type": "execute_result"
    }
   ],
   "source": [
    "2/40*100"
   ]
  },
  {
   "cell_type": "markdown",
   "id": "4ecd7eb7",
   "metadata": {},
   "source": [
    "### Key findings from the Top 10 purchases by Age include:\n",
    "\n",
    "**Model Popularity:**\n",
    "\n",
    "- Age group 25 is most prominent purchasing age group with **(13.88%)** purchases followed by age groups of **23(10%)**, **24(6.6%)**, **26(6.6%)**  and so on. \n",
    "- Among all age groups and by total models sold, Age group of **25** purchased 8.75% of entry models, 18.3% of mid level models and 17.5% of advance models.\n",
    "- Among all age groups and by total models sold, Age group of **23** purchased 10% of entry models, 11.6% of mid level models and 7.5% of advance models.\n",
    "-  Among all age groups and by total models sold, Age group of **24** purchased 6.25% of entry models, 5% of mid level models and 10% of advance models.\n",
    "- Among all age groups and by total models sold, Age group of **26** purchased 8.75% of entry models, 5% of mid level models and 5% of advance models.\n"
   ]
  },
  {
   "cell_type": "code",
   "execution_count": 72,
   "id": "e01be95c",
   "metadata": {
    "scrolled": false
   },
   "outputs": [
    {
     "data": {
      "text/html": [
       "<div>\n",
       "<style scoped>\n",
       "    .dataframe tbody tr th:only-of-type {\n",
       "        vertical-align: middle;\n",
       "    }\n",
       "\n",
       "    .dataframe tbody tr th {\n",
       "        vertical-align: top;\n",
       "    }\n",
       "\n",
       "    .dataframe thead th {\n",
       "        text-align: right;\n",
       "    }\n",
       "</style>\n",
       "<table border=\"1\" class=\"dataframe\">\n",
       "  <thead>\n",
       "    <tr style=\"text-align: right;\">\n",
       "      <th></th>\n",
       "      <th>Product</th>\n",
       "      <th>Age</th>\n",
       "      <th>Gender</th>\n",
       "      <th>Education</th>\n",
       "      <th>MaritalStatus</th>\n",
       "      <th>Usage</th>\n",
       "      <th>Fitness</th>\n",
       "      <th>Income</th>\n",
       "      <th>Miles</th>\n",
       "    </tr>\n",
       "  </thead>\n",
       "  <tbody>\n",
       "    <tr>\n",
       "      <th>103</th>\n",
       "      <td>KP481</td>\n",
       "      <td>25</td>\n",
       "      <td>Male</td>\n",
       "      <td>14</td>\n",
       "      <td>Partnered</td>\n",
       "      <td>4</td>\n",
       "      <td>3</td>\n",
       "      <td>45480</td>\n",
       "      <td>170</td>\n",
       "    </tr>\n",
       "    <tr>\n",
       "      <th>152</th>\n",
       "      <td>KP781</td>\n",
       "      <td>25</td>\n",
       "      <td>Female</td>\n",
       "      <td>18</td>\n",
       "      <td>Partnered</td>\n",
       "      <td>5</td>\n",
       "      <td>5</td>\n",
       "      <td>61006</td>\n",
       "      <td>200</td>\n",
       "    </tr>\n",
       "    <tr>\n",
       "      <th>49</th>\n",
       "      <td>KP281</td>\n",
       "      <td>28</td>\n",
       "      <td>Female</td>\n",
       "      <td>16</td>\n",
       "      <td>Partnered</td>\n",
       "      <td>3</td>\n",
       "      <td>3</td>\n",
       "      <td>51165</td>\n",
       "      <td>56</td>\n",
       "    </tr>\n",
       "    <tr>\n",
       "      <th>83</th>\n",
       "      <td>KP481</td>\n",
       "      <td>20</td>\n",
       "      <td>Male</td>\n",
       "      <td>14</td>\n",
       "      <td>Single</td>\n",
       "      <td>3</td>\n",
       "      <td>3</td>\n",
       "      <td>38658</td>\n",
       "      <td>95</td>\n",
       "    </tr>\n",
       "    <tr>\n",
       "      <th>78</th>\n",
       "      <td>KP281</td>\n",
       "      <td>47</td>\n",
       "      <td>Male</td>\n",
       "      <td>16</td>\n",
       "      <td>Partnered</td>\n",
       "      <td>4</td>\n",
       "      <td>3</td>\n",
       "      <td>56850</td>\n",
       "      <td>94</td>\n",
       "    </tr>\n",
       "    <tr>\n",
       "      <th>163</th>\n",
       "      <td>KP781</td>\n",
       "      <td>28</td>\n",
       "      <td>Male</td>\n",
       "      <td>18</td>\n",
       "      <td>Partnered</td>\n",
       "      <td>7</td>\n",
       "      <td>5</td>\n",
       "      <td>77191</td>\n",
       "      <td>180</td>\n",
       "    </tr>\n",
       "    <tr>\n",
       "      <th>97</th>\n",
       "      <td>KP481</td>\n",
       "      <td>25</td>\n",
       "      <td>Female</td>\n",
       "      <td>14</td>\n",
       "      <td>Partnered</td>\n",
       "      <td>2</td>\n",
       "      <td>3</td>\n",
       "      <td>45480</td>\n",
       "      <td>85</td>\n",
       "    </tr>\n",
       "    <tr>\n",
       "      <th>62</th>\n",
       "      <td>KP281</td>\n",
       "      <td>34</td>\n",
       "      <td>Female</td>\n",
       "      <td>16</td>\n",
       "      <td>Single</td>\n",
       "      <td>2</td>\n",
       "      <td>2</td>\n",
       "      <td>52302</td>\n",
       "      <td>66</td>\n",
       "    </tr>\n",
       "    <tr>\n",
       "      <th>88</th>\n",
       "      <td>KP481</td>\n",
       "      <td>23</td>\n",
       "      <td>Male</td>\n",
       "      <td>14</td>\n",
       "      <td>Partnered</td>\n",
       "      <td>3</td>\n",
       "      <td>3</td>\n",
       "      <td>38658</td>\n",
       "      <td>85</td>\n",
       "    </tr>\n",
       "    <tr>\n",
       "      <th>34</th>\n",
       "      <td>KP281</td>\n",
       "      <td>26</td>\n",
       "      <td>Female</td>\n",
       "      <td>14</td>\n",
       "      <td>Partnered</td>\n",
       "      <td>3</td>\n",
       "      <td>4</td>\n",
       "      <td>44343</td>\n",
       "      <td>113</td>\n",
       "    </tr>\n",
       "  </tbody>\n",
       "</table>\n",
       "</div>"
      ],
      "text/plain": [
       "    Product  Age  Gender  Education MaritalStatus  Usage  Fitness  Income  \\\n",
       "103   KP481   25    Male         14     Partnered      4        3   45480   \n",
       "152   KP781   25  Female         18     Partnered      5        5   61006   \n",
       "49    KP281   28  Female         16     Partnered      3        3   51165   \n",
       "83    KP481   20    Male         14        Single      3        3   38658   \n",
       "78    KP281   47    Male         16     Partnered      4        3   56850   \n",
       "163   KP781   28    Male         18     Partnered      7        5   77191   \n",
       "97    KP481   25  Female         14     Partnered      2        3   45480   \n",
       "62    KP281   34  Female         16        Single      2        2   52302   \n",
       "88    KP481   23    Male         14     Partnered      3        3   38658   \n",
       "34    KP281   26  Female         14     Partnered      3        4   44343   \n",
       "\n",
       "     Miles  \n",
       "103    170  \n",
       "152    200  \n",
       "49      56  \n",
       "83      95  \n",
       "78      94  \n",
       "163    180  \n",
       "97      85  \n",
       "62      66  \n",
       "88      85  \n",
       "34     113  "
      ]
     },
     "execution_count": 72,
     "metadata": {},
     "output_type": "execute_result"
    }
   ],
   "source": [
    "df.sample(10)"
   ]
  },
  {
   "cell_type": "markdown",
   "id": "5311462f",
   "metadata": {},
   "source": [
    "### Income"
   ]
  },
  {
   "cell_type": "code",
   "execution_count": 73,
   "id": "80022952",
   "metadata": {},
   "outputs": [
    {
     "data": {
      "text/html": [
       "<div>\n",
       "<style scoped>\n",
       "    .dataframe tbody tr th:only-of-type {\n",
       "        vertical-align: middle;\n",
       "    }\n",
       "\n",
       "    .dataframe tbody tr th {\n",
       "        vertical-align: top;\n",
       "    }\n",
       "\n",
       "    .dataframe thead th {\n",
       "        text-align: right;\n",
       "    }\n",
       "</style>\n",
       "<table border=\"1\" class=\"dataframe\">\n",
       "  <thead>\n",
       "    <tr style=\"text-align: right;\">\n",
       "      <th>Product</th>\n",
       "      <th>KP281</th>\n",
       "      <th>KP481</th>\n",
       "      <th>KP781</th>\n",
       "      <th>All</th>\n",
       "    </tr>\n",
       "    <tr>\n",
       "      <th>Income</th>\n",
       "      <th></th>\n",
       "      <th></th>\n",
       "      <th></th>\n",
       "      <th></th>\n",
       "    </tr>\n",
       "  </thead>\n",
       "  <tbody>\n",
       "    <tr>\n",
       "      <th>All</th>\n",
       "      <td>80</td>\n",
       "      <td>60</td>\n",
       "      <td>40</td>\n",
       "      <td>180</td>\n",
       "    </tr>\n",
       "    <tr>\n",
       "      <th>45480</th>\n",
       "      <td>5</td>\n",
       "      <td>9</td>\n",
       "      <td>0</td>\n",
       "      <td>14</td>\n",
       "    </tr>\n",
       "    <tr>\n",
       "      <th>52302</th>\n",
       "      <td>6</td>\n",
       "      <td>3</td>\n",
       "      <td>0</td>\n",
       "      <td>9</td>\n",
       "    </tr>\n",
       "    <tr>\n",
       "      <th>54576</th>\n",
       "      <td>7</td>\n",
       "      <td>1</td>\n",
       "      <td>0</td>\n",
       "      <td>8</td>\n",
       "    </tr>\n",
       "    <tr>\n",
       "      <th>53439</th>\n",
       "      <td>3</td>\n",
       "      <td>5</td>\n",
       "      <td>0</td>\n",
       "      <td>8</td>\n",
       "    </tr>\n",
       "    <tr>\n",
       "      <th>...</th>\n",
       "      <td>...</td>\n",
       "      <td>...</td>\n",
       "      <td>...</td>\n",
       "      <td>...</td>\n",
       "    </tr>\n",
       "    <tr>\n",
       "      <th>53536</th>\n",
       "      <td>0</td>\n",
       "      <td>0</td>\n",
       "      <td>1</td>\n",
       "      <td>1</td>\n",
       "    </tr>\n",
       "    <tr>\n",
       "      <th>54781</th>\n",
       "      <td>0</td>\n",
       "      <td>0</td>\n",
       "      <td>1</td>\n",
       "      <td>1</td>\n",
       "    </tr>\n",
       "    <tr>\n",
       "      <th>55713</th>\n",
       "      <td>1</td>\n",
       "      <td>0</td>\n",
       "      <td>0</td>\n",
       "      <td>1</td>\n",
       "    </tr>\n",
       "    <tr>\n",
       "      <th>58516</th>\n",
       "      <td>0</td>\n",
       "      <td>0</td>\n",
       "      <td>1</td>\n",
       "      <td>1</td>\n",
       "    </tr>\n",
       "    <tr>\n",
       "      <th>29562</th>\n",
       "      <td>1</td>\n",
       "      <td>0</td>\n",
       "      <td>0</td>\n",
       "      <td>1</td>\n",
       "    </tr>\n",
       "  </tbody>\n",
       "</table>\n",
       "<p>63 rows × 4 columns</p>\n",
       "</div>"
      ],
      "text/plain": [
       "Product  KP281  KP481  KP781  All\n",
       "Income                           \n",
       "All         80     60     40  180\n",
       "45480        5      9      0   14\n",
       "52302        6      3      0    9\n",
       "54576        7      1      0    8\n",
       "53439        3      5      0    8\n",
       "...        ...    ...    ...  ...\n",
       "53536        0      0      1    1\n",
       "54781        0      0      1    1\n",
       "55713        1      0      0    1\n",
       "58516        0      0      1    1\n",
       "29562        1      0      0    1\n",
       "\n",
       "[63 rows x 4 columns]"
      ]
     },
     "execution_count": 73,
     "metadata": {},
     "output_type": "execute_result"
    }
   ],
   "source": [
    "pd.crosstab(df[\"Income\"],df[\"Product\"],margins=True).sort_values(\"All\",ascending=False)"
   ]
  },
  {
   "cell_type": "code",
   "execution_count": 75,
   "id": "9f89972c",
   "metadata": {},
   "outputs": [
    {
     "data": {
      "text/plain": [
       "count       180.000000\n",
       "mean      53719.577778\n",
       "std       16506.684226\n",
       "min       29562.000000\n",
       "25%       44058.750000\n",
       "50%       50596.500000\n",
       "75%       58668.000000\n",
       "max      104581.000000\n",
       "Name: Income, dtype: float64"
      ]
     },
     "execution_count": 75,
     "metadata": {},
     "output_type": "execute_result"
    }
   ],
   "source": [
    "df[\"Income\"].describe()"
   ]
  },
  {
   "cell_type": "code",
   "execution_count": 76,
   "id": "66fe9c45",
   "metadata": {},
   "outputs": [
    {
     "data": {
      "text/plain": [
       "14609.25"
      ]
     },
     "execution_count": 76,
     "metadata": {},
     "output_type": "execute_result"
    }
   ],
   "source": [
    "iqr = np.percentile(df[\"Income\"],75) - np.percentile(df[\"Income\"],25)\n",
    "iqr"
   ]
  },
  {
   "cell_type": "code",
   "execution_count": 77,
   "id": "f9a3e493",
   "metadata": {},
   "outputs": [
    {
     "data": {
      "text/plain": [
       "<Axes: >"
      ]
     },
     "execution_count": 77,
     "metadata": {},
     "output_type": "execute_result"
    },
    {
     "data": {
      "image/png": "[encoded data removed]",
      "text/plain": [
       "<Figure size 640x480 with 1 Axes>"
      ]
     },
     "metadata": {},
     "output_type": "display_data"
    }
   ],
   "source": [
    "sns.boxplot(df[\"Income\"])"
   ]
  },
  {
   "cell_type": "code",
   "execution_count": 78,
   "id": "688a6c6c",
   "metadata": {},
   "outputs": [],
   "source": [
    "inc_bins = [25000,45000,80000,110000] #range used based on percentile, ranges.\n",
    "inc_labels = [\"low\",\"medium\",\"high\"]"
   ]
  },
  {
   "cell_type": "code",
   "execution_count": 79,
   "id": "b1890fba",
   "metadata": {},
   "outputs": [],
   "source": [
    "df[\"Income_Segment\"] = pd.cut(df[\"Income\"],bins = inc_bins,labels= inc_labels)"
   ]
  },
  {
   "cell_type": "code",
   "execution_count": 80,
   "id": "63a42ce5",
   "metadata": {},
   "outputs": [
    {
     "data": {
      "text/html": [
       "<div>\n",
       "<style scoped>\n",
       "    .dataframe tbody tr th:only-of-type {\n",
       "        vertical-align: middle;\n",
       "    }\n",
       "\n",
       "    .dataframe tbody tr th {\n",
       "        vertical-align: top;\n",
       "    }\n",
       "\n",
       "    .dataframe thead th {\n",
       "        text-align: right;\n",
       "    }\n",
       "</style>\n",
       "<table border=\"1\" class=\"dataframe\">\n",
       "  <thead>\n",
       "    <tr style=\"text-align: right;\">\n",
       "      <th></th>\n",
       "      <th>Product</th>\n",
       "      <th>Age</th>\n",
       "      <th>Gender</th>\n",
       "      <th>Education</th>\n",
       "      <th>MaritalStatus</th>\n",
       "      <th>Usage</th>\n",
       "      <th>Fitness</th>\n",
       "      <th>Income</th>\n",
       "      <th>Miles</th>\n",
       "      <th>Income_Segment</th>\n",
       "    </tr>\n",
       "  </thead>\n",
       "  <tbody>\n",
       "    <tr>\n",
       "      <th>0</th>\n",
       "      <td>KP281</td>\n",
       "      <td>18</td>\n",
       "      <td>Male</td>\n",
       "      <td>14</td>\n",
       "      <td>Single</td>\n",
       "      <td>3</td>\n",
       "      <td>4</td>\n",
       "      <td>29562</td>\n",
       "      <td>112</td>\n",
       "      <td>low</td>\n",
       "    </tr>\n",
       "    <tr>\n",
       "      <th>1</th>\n",
       "      <td>KP281</td>\n",
       "      <td>19</td>\n",
       "      <td>Male</td>\n",
       "      <td>15</td>\n",
       "      <td>Single</td>\n",
       "      <td>2</td>\n",
       "      <td>3</td>\n",
       "      <td>31836</td>\n",
       "      <td>75</td>\n",
       "      <td>low</td>\n",
       "    </tr>\n",
       "    <tr>\n",
       "      <th>2</th>\n",
       "      <td>KP281</td>\n",
       "      <td>19</td>\n",
       "      <td>Female</td>\n",
       "      <td>14</td>\n",
       "      <td>Partnered</td>\n",
       "      <td>4</td>\n",
       "      <td>3</td>\n",
       "      <td>30699</td>\n",
       "      <td>66</td>\n",
       "      <td>low</td>\n",
       "    </tr>\n",
       "    <tr>\n",
       "      <th>3</th>\n",
       "      <td>KP281</td>\n",
       "      <td>19</td>\n",
       "      <td>Male</td>\n",
       "      <td>12</td>\n",
       "      <td>Single</td>\n",
       "      <td>3</td>\n",
       "      <td>3</td>\n",
       "      <td>32973</td>\n",
       "      <td>85</td>\n",
       "      <td>low</td>\n",
       "    </tr>\n",
       "    <tr>\n",
       "      <th>4</th>\n",
       "      <td>KP281</td>\n",
       "      <td>20</td>\n",
       "      <td>Male</td>\n",
       "      <td>13</td>\n",
       "      <td>Partnered</td>\n",
       "      <td>4</td>\n",
       "      <td>2</td>\n",
       "      <td>35247</td>\n",
       "      <td>47</td>\n",
       "      <td>low</td>\n",
       "    </tr>\n",
       "  </tbody>\n",
       "</table>\n",
       "</div>"
      ],
      "text/plain": [
       "  Product  Age  Gender  Education MaritalStatus  Usage  Fitness  Income  \\\n",
       "0   KP281   18    Male         14        Single      3        4   29562   \n",
       "1   KP281   19    Male         15        Single      2        3   31836   \n",
       "2   KP281   19  Female         14     Partnered      4        3   30699   \n",
       "3   KP281   19    Male         12        Single      3        3   32973   \n",
       "4   KP281   20    Male         13     Partnered      4        2   35247   \n",
       "\n",
       "   Miles Income_Segment  \n",
       "0    112            low  \n",
       "1     75            low  \n",
       "2     66            low  \n",
       "3     85            low  \n",
       "4     47            low  "
      ]
     },
     "execution_count": 80,
     "metadata": {},
     "output_type": "execute_result"
    }
   ],
   "source": [
    "df.head()"
   ]
  },
  {
   "cell_type": "code",
   "execution_count": 81,
   "id": "71202f6d",
   "metadata": {},
   "outputs": [
    {
     "data": {
      "text/plain": [
       "Income_Segment\n",
       "medium    112\n",
       "low        49\n",
       "high       19\n",
       "Name: count, dtype: int64"
      ]
     },
     "execution_count": 81,
     "metadata": {},
     "output_type": "execute_result"
    }
   ],
   "source": [
    "df[\"Income_Segment\"].value_counts()"
   ]
  },
  {
   "cell_type": "code",
   "execution_count": 82,
   "id": "3c064b6e",
   "metadata": {},
   "outputs": [
    {
     "data": {
      "text/html": [
       "<div>\n",
       "<style scoped>\n",
       "    .dataframe tbody tr th:only-of-type {\n",
       "        vertical-align: middle;\n",
       "    }\n",
       "\n",
       "    .dataframe tbody tr th {\n",
       "        vertical-align: top;\n",
       "    }\n",
       "\n",
       "    .dataframe thead th {\n",
       "        text-align: right;\n",
       "    }\n",
       "</style>\n",
       "<table border=\"1\" class=\"dataframe\">\n",
       "  <thead>\n",
       "    <tr style=\"text-align: right;\">\n",
       "      <th>Product</th>\n",
       "      <th>KP281</th>\n",
       "      <th>KP481</th>\n",
       "      <th>KP781</th>\n",
       "      <th>All</th>\n",
       "    </tr>\n",
       "    <tr>\n",
       "      <th>Income_Segment</th>\n",
       "      <th></th>\n",
       "      <th></th>\n",
       "      <th></th>\n",
       "      <th></th>\n",
       "    </tr>\n",
       "  </thead>\n",
       "  <tbody>\n",
       "    <tr>\n",
       "      <th>low</th>\n",
       "      <td>34</td>\n",
       "      <td>15</td>\n",
       "      <td>0</td>\n",
       "      <td>49</td>\n",
       "    </tr>\n",
       "    <tr>\n",
       "      <th>medium</th>\n",
       "      <td>46</td>\n",
       "      <td>45</td>\n",
       "      <td>21</td>\n",
       "      <td>112</td>\n",
       "    </tr>\n",
       "    <tr>\n",
       "      <th>high</th>\n",
       "      <td>0</td>\n",
       "      <td>0</td>\n",
       "      <td>19</td>\n",
       "      <td>19</td>\n",
       "    </tr>\n",
       "    <tr>\n",
       "      <th>All</th>\n",
       "      <td>80</td>\n",
       "      <td>60</td>\n",
       "      <td>40</td>\n",
       "      <td>180</td>\n",
       "    </tr>\n",
       "  </tbody>\n",
       "</table>\n",
       "</div>"
      ],
      "text/plain": [
       "Product         KP281  KP481  KP781  All\n",
       "Income_Segment                          \n",
       "low                34     15      0   49\n",
       "medium             46     45     21  112\n",
       "high                0      0     19   19\n",
       "All                80     60     40  180"
      ]
     },
     "execution_count": 82,
     "metadata": {},
     "output_type": "execute_result"
    }
   ],
   "source": [
    "pd.crosstab(df[\"Income_Segment\"],df[\"Product\"],margins=True)"
   ]
  },
  {
   "cell_type": "code",
   "execution_count": 83,
   "id": "d607a5e3",
   "metadata": {},
   "outputs": [
    {
     "data": {
      "text/plain": [
       "27.22"
      ]
     },
     "execution_count": 83,
     "metadata": {},
     "output_type": "execute_result"
    }
   ],
   "source": [
    "pf_low = np.round((49/180)*100,2)\n",
    "pf_low"
   ]
  },
  {
   "cell_type": "code",
   "execution_count": 84,
   "id": "fadf9a91",
   "metadata": {},
   "outputs": [
    {
     "data": {
      "text/plain": [
       "62.22"
      ]
     },
     "execution_count": 84,
     "metadata": {},
     "output_type": "execute_result"
    }
   ],
   "source": [
    "pf_medium = np.round((112/180)*100,2)\n",
    "pf_medium"
   ]
  },
  {
   "cell_type": "code",
   "execution_count": 85,
   "id": "9115b3b3",
   "metadata": {},
   "outputs": [
    {
     "data": {
      "text/plain": [
       "10.56"
      ]
     },
     "execution_count": 85,
     "metadata": {},
     "output_type": "execute_result"
    }
   ],
   "source": [
    "pf_high = np.round((19/180)*100,2)\n",
    "pf_high"
   ]
  },
  {
   "cell_type": "markdown",
   "id": "70ff4c24",
   "metadata": {},
   "source": [
    "## Key findings of purchases by Income Segments include:\n",
    "\n",
    "- The data indicates that the majority of purchasers are from the medium income segment (62.22%), buying all models with most of the revenue coming from this income group.\n",
    "- Medium-income customers show a balanced preference for entry-level and mid-level models, with very good interest in advanced models as well.\n",
    "- Followed by is the low-income customers (27.22%) which have never purchased any advanced model treadmills as per segmentation. Low-income customers predominantly buy entry-level models, followed by mid-level models.\n",
    "- High-income customers are inclined to purchase only advanced models. They typically avoid buying entry-level and mid-level models possibility due to inclined more on advanced model may come with more features and quality. They are niche customers. "
   ]
  },
  {
   "cell_type": "markdown",
   "id": "e13e5362",
   "metadata": {},
   "source": [
    "### Education & Income "
   ]
  },
  {
   "cell_type": "code",
   "execution_count": 86,
   "id": "24aa2e47",
   "metadata": {},
   "outputs": [
    {
     "data": {
      "text/plain": [
       "count    180.000000\n",
       "mean      15.572222\n",
       "std        1.617055\n",
       "min       12.000000\n",
       "25%       14.000000\n",
       "50%       16.000000\n",
       "75%       16.000000\n",
       "max       21.000000\n",
       "Name: Education, dtype: float64"
      ]
     },
     "execution_count": 86,
     "metadata": {},
     "output_type": "execute_result"
    }
   ],
   "source": [
    "df[\"Education\"].describe()"
   ]
  },
  {
   "cell_type": "code",
   "execution_count": 87,
   "id": "7a1871ab",
   "metadata": {},
   "outputs": [],
   "source": [
    "#Education Segmentation\n",
    "\n",
    "ed_bins = [10,12,16,22]\n",
    "ed_labels = [\"High School\",\"College\",\"Post Graduate\"]\n",
    "\n",
    "df[\"Ed_Segment\"] = pd.cut(df[\"Education\"],bins = ed_bins,labels =ed_labels)"
   ]
  },
  {
   "cell_type": "code",
   "execution_count": 88,
   "id": "f9374802",
   "metadata": {
    "scrolled": false
   },
   "outputs": [
    {
     "data": {
      "text/html": [
       "<div>\n",
       "<style scoped>\n",
       "    .dataframe tbody tr th:only-of-type {\n",
       "        vertical-align: middle;\n",
       "    }\n",
       "\n",
       "    .dataframe tbody tr th {\n",
       "        vertical-align: top;\n",
       "    }\n",
       "\n",
       "    .dataframe thead th {\n",
       "        text-align: right;\n",
       "    }\n",
       "</style>\n",
       "<table border=\"1\" class=\"dataframe\">\n",
       "  <thead>\n",
       "    <tr style=\"text-align: right;\">\n",
       "      <th></th>\n",
       "      <th>Product</th>\n",
       "      <th>Age</th>\n",
       "      <th>Gender</th>\n",
       "      <th>Education</th>\n",
       "      <th>MaritalStatus</th>\n",
       "      <th>Usage</th>\n",
       "      <th>Fitness</th>\n",
       "      <th>Income</th>\n",
       "      <th>Miles</th>\n",
       "      <th>Income_Segment</th>\n",
       "      <th>Ed_Segment</th>\n",
       "    </tr>\n",
       "  </thead>\n",
       "  <tbody>\n",
       "    <tr>\n",
       "      <th>90</th>\n",
       "      <td>KP481</td>\n",
       "      <td>23</td>\n",
       "      <td>Male</td>\n",
       "      <td>16</td>\n",
       "      <td>Partnered</td>\n",
       "      <td>4</td>\n",
       "      <td>3</td>\n",
       "      <td>45480</td>\n",
       "      <td>127</td>\n",
       "      <td>medium</td>\n",
       "      <td>College</td>\n",
       "    </tr>\n",
       "    <tr>\n",
       "      <th>0</th>\n",
       "      <td>KP281</td>\n",
       "      <td>18</td>\n",
       "      <td>Male</td>\n",
       "      <td>14</td>\n",
       "      <td>Single</td>\n",
       "      <td>3</td>\n",
       "      <td>4</td>\n",
       "      <td>29562</td>\n",
       "      <td>112</td>\n",
       "      <td>low</td>\n",
       "      <td>College</td>\n",
       "    </tr>\n",
       "    <tr>\n",
       "      <th>169</th>\n",
       "      <td>KP781</td>\n",
       "      <td>30</td>\n",
       "      <td>Male</td>\n",
       "      <td>18</td>\n",
       "      <td>Partnered</td>\n",
       "      <td>5</td>\n",
       "      <td>5</td>\n",
       "      <td>99601</td>\n",
       "      <td>150</td>\n",
       "      <td>high</td>\n",
       "      <td>Post Graduate</td>\n",
       "    </tr>\n",
       "    <tr>\n",
       "      <th>59</th>\n",
       "      <td>KP281</td>\n",
       "      <td>33</td>\n",
       "      <td>Female</td>\n",
       "      <td>16</td>\n",
       "      <td>Single</td>\n",
       "      <td>2</td>\n",
       "      <td>2</td>\n",
       "      <td>55713</td>\n",
       "      <td>38</td>\n",
       "      <td>medium</td>\n",
       "      <td>College</td>\n",
       "    </tr>\n",
       "    <tr>\n",
       "      <th>108</th>\n",
       "      <td>KP481</td>\n",
       "      <td>26</td>\n",
       "      <td>Female</td>\n",
       "      <td>16</td>\n",
       "      <td>Partnered</td>\n",
       "      <td>4</td>\n",
       "      <td>3</td>\n",
       "      <td>45480</td>\n",
       "      <td>85</td>\n",
       "      <td>medium</td>\n",
       "      <td>College</td>\n",
       "    </tr>\n",
       "    <tr>\n",
       "      <th>159</th>\n",
       "      <td>KP781</td>\n",
       "      <td>27</td>\n",
       "      <td>Male</td>\n",
       "      <td>16</td>\n",
       "      <td>Partnered</td>\n",
       "      <td>4</td>\n",
       "      <td>5</td>\n",
       "      <td>83416</td>\n",
       "      <td>160</td>\n",
       "      <td>high</td>\n",
       "      <td>College</td>\n",
       "    </tr>\n",
       "    <tr>\n",
       "      <th>4</th>\n",
       "      <td>KP281</td>\n",
       "      <td>20</td>\n",
       "      <td>Male</td>\n",
       "      <td>13</td>\n",
       "      <td>Partnered</td>\n",
       "      <td>4</td>\n",
       "      <td>2</td>\n",
       "      <td>35247</td>\n",
       "      <td>47</td>\n",
       "      <td>low</td>\n",
       "      <td>College</td>\n",
       "    </tr>\n",
       "    <tr>\n",
       "      <th>117</th>\n",
       "      <td>KP481</td>\n",
       "      <td>31</td>\n",
       "      <td>Female</td>\n",
       "      <td>18</td>\n",
       "      <td>Single</td>\n",
       "      <td>2</td>\n",
       "      <td>1</td>\n",
       "      <td>65220</td>\n",
       "      <td>21</td>\n",
       "      <td>medium</td>\n",
       "      <td>Post Graduate</td>\n",
       "    </tr>\n",
       "    <tr>\n",
       "      <th>85</th>\n",
       "      <td>KP481</td>\n",
       "      <td>21</td>\n",
       "      <td>Male</td>\n",
       "      <td>16</td>\n",
       "      <td>Partnered</td>\n",
       "      <td>2</td>\n",
       "      <td>2</td>\n",
       "      <td>34110</td>\n",
       "      <td>42</td>\n",
       "      <td>low</td>\n",
       "      <td>College</td>\n",
       "    </tr>\n",
       "    <tr>\n",
       "      <th>149</th>\n",
       "      <td>KP781</td>\n",
       "      <td>24</td>\n",
       "      <td>Male</td>\n",
       "      <td>16</td>\n",
       "      <td>Single</td>\n",
       "      <td>5</td>\n",
       "      <td>5</td>\n",
       "      <td>49801</td>\n",
       "      <td>160</td>\n",
       "      <td>medium</td>\n",
       "      <td>College</td>\n",
       "    </tr>\n",
       "  </tbody>\n",
       "</table>\n",
       "</div>"
      ],
      "text/plain": [
       "    Product  Age  Gender  Education MaritalStatus  Usage  Fitness  Income  \\\n",
       "90    KP481   23    Male         16     Partnered      4        3   45480   \n",
       "0     KP281   18    Male         14        Single      3        4   29562   \n",
       "169   KP781   30    Male         18     Partnered      5        5   99601   \n",
       "59    KP281   33  Female         16        Single      2        2   55713   \n",
       "108   KP481   26  Female         16     Partnered      4        3   45480   \n",
       "159   KP781   27    Male         16     Partnered      4        5   83416   \n",
       "4     KP281   20    Male         13     Partnered      4        2   35247   \n",
       "117   KP481   31  Female         18        Single      2        1   65220   \n",
       "85    KP481   21    Male         16     Partnered      2        2   34110   \n",
       "149   KP781   24    Male         16        Single      5        5   49801   \n",
       "\n",
       "     Miles Income_Segment     Ed_Segment  \n",
       "90     127         medium        College  \n",
       "0      112            low        College  \n",
       "169    150           high  Post Graduate  \n",
       "59      38         medium        College  \n",
       "108     85         medium        College  \n",
       "159    160           high        College  \n",
       "4       47            low        College  \n",
       "117     21         medium  Post Graduate  \n",
       "85      42            low        College  \n",
       "149    160         medium        College  "
      ]
     },
     "execution_count": 88,
     "metadata": {},
     "output_type": "execute_result"
    }
   ],
   "source": [
    "df.sample(10)"
   ]
  },
  {
   "cell_type": "markdown",
   "id": "639f674e",
   "metadata": {},
   "source": [
    "### Correlation of Education and Income"
   ]
  },
  {
   "cell_type": "code",
   "execution_count": 89,
   "id": "85c9e02c",
   "metadata": {},
   "outputs": [
    {
     "name": "stdout",
     "output_type": "stream",
     "text": [
      "           Education    Income\n",
      "Education   1.000000  0.625827\n",
      "Income      0.625827  1.000000\n"
     ]
    }
   ],
   "source": [
    "correlation_matrix = df[[\"Education\",\"Income\"]].corr()\n",
    "print(correlation_matrix)"
   ]
  },
  {
   "cell_type": "code",
   "execution_count": 90,
   "id": "92d99485",
   "metadata": {
    "scrolled": false
   },
   "outputs": [
    {
     "data": {
      "text/plain": [
       "<Axes: >"
      ]
     },
     "execution_count": 90,
     "metadata": {},
     "output_type": "execute_result"
    },
    {
     "data": {
      "image/png": "[encoded data removed]",
      "text/plain": [
       "<Figure size 640x480 with 2 Axes>"
      ]
     },
     "metadata": {},
     "output_type": "display_data"
    }
   ],
   "source": [
    "sns.heatmap(correlation_matrix, annot=True, cmap='coolwarm', vmin=-1, vmax=1)"
   ]
  },
  {
   "cell_type": "code",
   "execution_count": 92,
   "id": "62c4f992",
   "metadata": {},
   "outputs": [
    {
     "data": {
      "text/plain": [
       "<Axes: xlabel='Education', ylabel='Income'>"
      ]
     },
     "execution_count": 92,
     "metadata": {},
     "output_type": "execute_result"
    },
    {
     "data": {
      "image/png": "[encoded data removed]",
      "text/plain": [
       "<Figure size 640x480 with 1 Axes>"
      ]
     },
     "metadata": {},
     "output_type": "display_data"
    }
   ],
   "source": [
    "sns.scatterplot(x=\"Education\",y=\"Income\", data = df)"
   ]
  },
  {
   "cell_type": "code",
   "execution_count": 93,
   "id": "95a6e172",
   "metadata": {
    "scrolled": true
   },
   "outputs": [
    {
     "data": {
      "text/html": [
       "<div>\n",
       "<style scoped>\n",
       "    .dataframe tbody tr th:only-of-type {\n",
       "        vertical-align: middle;\n",
       "    }\n",
       "\n",
       "    .dataframe tbody tr th {\n",
       "        vertical-align: top;\n",
       "    }\n",
       "\n",
       "    .dataframe thead th {\n",
       "        text-align: right;\n",
       "    }\n",
       "</style>\n",
       "<table border=\"1\" class=\"dataframe\">\n",
       "  <thead>\n",
       "    <tr style=\"text-align: right;\">\n",
       "      <th>Product</th>\n",
       "      <th>KP281</th>\n",
       "      <th>KP481</th>\n",
       "      <th>KP781</th>\n",
       "      <th>All</th>\n",
       "    </tr>\n",
       "    <tr>\n",
       "      <th>Ed_Segment</th>\n",
       "      <th></th>\n",
       "      <th></th>\n",
       "      <th></th>\n",
       "      <th></th>\n",
       "    </tr>\n",
       "  </thead>\n",
       "  <tbody>\n",
       "    <tr>\n",
       "      <th>High School</th>\n",
       "      <td>2</td>\n",
       "      <td>1</td>\n",
       "      <td>0</td>\n",
       "      <td>3</td>\n",
       "    </tr>\n",
       "    <tr>\n",
       "      <th>College</th>\n",
       "      <td>76</td>\n",
       "      <td>57</td>\n",
       "      <td>17</td>\n",
       "      <td>150</td>\n",
       "    </tr>\n",
       "    <tr>\n",
       "      <th>Post Graduate</th>\n",
       "      <td>2</td>\n",
       "      <td>2</td>\n",
       "      <td>23</td>\n",
       "      <td>27</td>\n",
       "    </tr>\n",
       "    <tr>\n",
       "      <th>All</th>\n",
       "      <td>80</td>\n",
       "      <td>60</td>\n",
       "      <td>40</td>\n",
       "      <td>180</td>\n",
       "    </tr>\n",
       "  </tbody>\n",
       "</table>\n",
       "</div>"
      ],
      "text/plain": [
       "Product        KP281  KP481  KP781  All\n",
       "Ed_Segment                             \n",
       "High School        2      1      0    3\n",
       "College           76     57     17  150\n",
       "Post Graduate      2      2     23   27\n",
       "All               80     60     40  180"
      ]
     },
     "execution_count": 93,
     "metadata": {},
     "output_type": "execute_result"
    }
   ],
   "source": [
    "pd.crosstab(df[\"Ed_Segment\"],df[\"Product\"],margins=True)"
   ]
  },
  {
   "cell_type": "code",
   "execution_count": 94,
   "id": "8fa65f9c",
   "metadata": {},
   "outputs": [
    {
     "data": {
      "text/plain": [
       "1.67"
      ]
     },
     "execution_count": 94,
     "metadata": {},
     "output_type": "execute_result"
    }
   ],
   "source": [
    "pf_hs = np.round((3/180)*100,2)\n",
    "pf_hs"
   ]
  },
  {
   "cell_type": "code",
   "execution_count": 95,
   "id": "8b59d5ee",
   "metadata": {},
   "outputs": [
    {
     "data": {
      "text/plain": [
       "83.33"
      ]
     },
     "execution_count": 95,
     "metadata": {},
     "output_type": "execute_result"
    }
   ],
   "source": [
    "pf_col = np.round((150/180)*100,2)\n",
    "pf_col"
   ]
  },
  {
   "cell_type": "code",
   "execution_count": 96,
   "id": "b1bad4d5",
   "metadata": {},
   "outputs": [
    {
     "data": {
      "text/plain": [
       "15.0"
      ]
     },
     "execution_count": 96,
     "metadata": {},
     "output_type": "execute_result"
    }
   ],
   "source": [
    "pf_pg = np.round((27/180)*100,2)\n",
    "pf_pg"
   ]
  },
  {
   "cell_type": "markdown",
   "id": "743d66c7",
   "metadata": {},
   "source": [
    "## Key findings from the education and correlation matrix\n",
    "\n",
    "- The correlation matrix shows there its positive correlation between income and education indicating that, the higher the eduction , the higher the income.\n",
    "- The correlation of 0.625827 between education and income indicates that as education years increase, income tends to increase moderately to strongly.\n",
    "- From the cross tab, we see only 1.67% of purchases came from the customers at high school\n",
    "- Clearly the College educated students are dominated with more purchases with 83.33%, majority from the entry level models followed by mid level and good interest on advance models as well.\n",
    "- Post graduated customers are more leaned towards the advance models with 15% of purchasing contributing. So people with higher education can be targeted for advance models."
   ]
  },
  {
   "cell_type": "code",
   "execution_count": 98,
   "id": "867a77fd",
   "metadata": {},
   "outputs": [
    {
     "data": {
      "text/plain": [
       "count    180.000000\n",
       "mean     103.194444\n",
       "std       51.863605\n",
       "min       21.000000\n",
       "25%       66.000000\n",
       "50%       94.000000\n",
       "75%      114.750000\n",
       "max      360.000000\n",
       "Name: Miles, dtype: float64"
      ]
     },
     "execution_count": 98,
     "metadata": {},
     "output_type": "execute_result"
    }
   ],
   "source": [
    "df[\"Miles\"].describe()"
   ]
  },
  {
   "cell_type": "code",
   "execution_count": null,
   "id": "a44fb85e",
   "metadata": {},
   "outputs": [],
   "source": []
  },
  {
   "cell_type": "code",
   "execution_count": null,
   "id": "f76b1a23",
   "metadata": {},
   "outputs": [],
   "source": []
  },
  {
   "cell_type": "markdown",
   "id": "b5d8ea86",
   "metadata": {},
   "source": [
    "## Cost Part"
   ]
  },
  {
   "cell_type": "code",
   "execution_count": 100,
   "id": "d913106a",
   "metadata": {},
   "outputs": [],
   "source": [
    "def cost(x):\n",
    "    if x == \"KP281\":\n",
    "        return 1500\n",
    "    elif x== \"KP481\":\n",
    "        return 1750\n",
    "    else:\n",
    "        return 2500"
   ]
  },
  {
   "cell_type": "code",
   "execution_count": 101,
   "id": "0e7abe00",
   "metadata": {},
   "outputs": [],
   "source": [
    "df[\"Cost\"] = df[\"Product\"].apply(cost)"
   ]
  },
  {
   "cell_type": "code",
   "execution_count": 102,
   "id": "6de3f9ea",
   "metadata": {},
   "outputs": [
    {
     "data": {
      "text/html": [
       "<div>\n",
       "<style scoped>\n",
       "    .dataframe tbody tr th:only-of-type {\n",
       "        vertical-align: middle;\n",
       "    }\n",
       "\n",
       "    .dataframe tbody tr th {\n",
       "        vertical-align: top;\n",
       "    }\n",
       "\n",
       "    .dataframe thead th {\n",
       "        text-align: right;\n",
       "    }\n",
       "</style>\n",
       "<table border=\"1\" class=\"dataframe\">\n",
       "  <thead>\n",
       "    <tr style=\"text-align: right;\">\n",
       "      <th></th>\n",
       "      <th>Product</th>\n",
       "      <th>Age</th>\n",
       "      <th>Gender</th>\n",
       "      <th>Education</th>\n",
       "      <th>MaritalStatus</th>\n",
       "      <th>Usage</th>\n",
       "      <th>Fitness</th>\n",
       "      <th>Income</th>\n",
       "      <th>Miles</th>\n",
       "      <th>Income_Segment</th>\n",
       "      <th>Ed_Segment</th>\n",
       "      <th>Cost</th>\n",
       "    </tr>\n",
       "  </thead>\n",
       "  <tbody>\n",
       "    <tr>\n",
       "      <th>151</th>\n",
       "      <td>KP781</td>\n",
       "      <td>25</td>\n",
       "      <td>Male</td>\n",
       "      <td>16</td>\n",
       "      <td>Partnered</td>\n",
       "      <td>4</td>\n",
       "      <td>4</td>\n",
       "      <td>62251</td>\n",
       "      <td>160</td>\n",
       "      <td>medium</td>\n",
       "      <td>College</td>\n",
       "      <td>2500</td>\n",
       "    </tr>\n",
       "    <tr>\n",
       "      <th>164</th>\n",
       "      <td>KP781</td>\n",
       "      <td>28</td>\n",
       "      <td>Male</td>\n",
       "      <td>18</td>\n",
       "      <td>Single</td>\n",
       "      <td>6</td>\n",
       "      <td>5</td>\n",
       "      <td>88396</td>\n",
       "      <td>150</td>\n",
       "      <td>high</td>\n",
       "      <td>Post Graduate</td>\n",
       "      <td>2500</td>\n",
       "    </tr>\n",
       "    <tr>\n",
       "      <th>29</th>\n",
       "      <td>KP281</td>\n",
       "      <td>25</td>\n",
       "      <td>Female</td>\n",
       "      <td>14</td>\n",
       "      <td>Partnered</td>\n",
       "      <td>2</td>\n",
       "      <td>2</td>\n",
       "      <td>53439</td>\n",
       "      <td>47</td>\n",
       "      <td>medium</td>\n",
       "      <td>College</td>\n",
       "      <td>1500</td>\n",
       "    </tr>\n",
       "    <tr>\n",
       "      <th>28</th>\n",
       "      <td>KP281</td>\n",
       "      <td>25</td>\n",
       "      <td>Male</td>\n",
       "      <td>14</td>\n",
       "      <td>Partnered</td>\n",
       "      <td>2</td>\n",
       "      <td>3</td>\n",
       "      <td>45480</td>\n",
       "      <td>56</td>\n",
       "      <td>medium</td>\n",
       "      <td>College</td>\n",
       "      <td>1500</td>\n",
       "    </tr>\n",
       "    <tr>\n",
       "      <th>160</th>\n",
       "      <td>KP781</td>\n",
       "      <td>27</td>\n",
       "      <td>Male</td>\n",
       "      <td>18</td>\n",
       "      <td>Single</td>\n",
       "      <td>4</td>\n",
       "      <td>3</td>\n",
       "      <td>88396</td>\n",
       "      <td>100</td>\n",
       "      <td>high</td>\n",
       "      <td>Post Graduate</td>\n",
       "      <td>2500</td>\n",
       "    </tr>\n",
       "    <tr>\n",
       "      <th>84</th>\n",
       "      <td>KP481</td>\n",
       "      <td>21</td>\n",
       "      <td>Female</td>\n",
       "      <td>14</td>\n",
       "      <td>Partnered</td>\n",
       "      <td>5</td>\n",
       "      <td>4</td>\n",
       "      <td>34110</td>\n",
       "      <td>212</td>\n",
       "      <td>low</td>\n",
       "      <td>College</td>\n",
       "      <td>1750</td>\n",
       "    </tr>\n",
       "    <tr>\n",
       "      <th>132</th>\n",
       "      <td>KP481</td>\n",
       "      <td>37</td>\n",
       "      <td>Female</td>\n",
       "      <td>16</td>\n",
       "      <td>Partnered</td>\n",
       "      <td>2</td>\n",
       "      <td>3</td>\n",
       "      <td>48891</td>\n",
       "      <td>85</td>\n",
       "      <td>medium</td>\n",
       "      <td>College</td>\n",
       "      <td>1750</td>\n",
       "    </tr>\n",
       "    <tr>\n",
       "      <th>179</th>\n",
       "      <td>KP781</td>\n",
       "      <td>48</td>\n",
       "      <td>Male</td>\n",
       "      <td>18</td>\n",
       "      <td>Partnered</td>\n",
       "      <td>4</td>\n",
       "      <td>5</td>\n",
       "      <td>95508</td>\n",
       "      <td>180</td>\n",
       "      <td>high</td>\n",
       "      <td>Post Graduate</td>\n",
       "      <td>2500</td>\n",
       "    </tr>\n",
       "    <tr>\n",
       "      <th>94</th>\n",
       "      <td>KP481</td>\n",
       "      <td>24</td>\n",
       "      <td>Female</td>\n",
       "      <td>14</td>\n",
       "      <td>Single</td>\n",
       "      <td>3</td>\n",
       "      <td>2</td>\n",
       "      <td>40932</td>\n",
       "      <td>85</td>\n",
       "      <td>low</td>\n",
       "      <td>College</td>\n",
       "      <td>1750</td>\n",
       "    </tr>\n",
       "    <tr>\n",
       "      <th>67</th>\n",
       "      <td>KP281</td>\n",
       "      <td>37</td>\n",
       "      <td>Female</td>\n",
       "      <td>16</td>\n",
       "      <td>Partnered</td>\n",
       "      <td>3</td>\n",
       "      <td>3</td>\n",
       "      <td>37521</td>\n",
       "      <td>85</td>\n",
       "      <td>low</td>\n",
       "      <td>College</td>\n",
       "      <td>1500</td>\n",
       "    </tr>\n",
       "  </tbody>\n",
       "</table>\n",
       "</div>"
      ],
      "text/plain": [
       "    Product  Age  Gender  Education MaritalStatus  Usage  Fitness  Income  \\\n",
       "151   KP781   25    Male         16     Partnered      4        4   62251   \n",
       "164   KP781   28    Male         18        Single      6        5   88396   \n",
       "29    KP281   25  Female         14     Partnered      2        2   53439   \n",
       "28    KP281   25    Male         14     Partnered      2        3   45480   \n",
       "160   KP781   27    Male         18        Single      4        3   88396   \n",
       "84    KP481   21  Female         14     Partnered      5        4   34110   \n",
       "132   KP481   37  Female         16     Partnered      2        3   48891   \n",
       "179   KP781   48    Male         18     Partnered      4        5   95508   \n",
       "94    KP481   24  Female         14        Single      3        2   40932   \n",
       "67    KP281   37  Female         16     Partnered      3        3   37521   \n",
       "\n",
       "     Miles Income_Segment     Ed_Segment  Cost  \n",
       "151    160         medium        College  2500  \n",
       "164    150           high  Post Graduate  2500  \n",
       "29      47         medium        College  1500  \n",
       "28      56         medium        College  1500  \n",
       "160    100           high  Post Graduate  2500  \n",
       "84     212            low        College  1750  \n",
       "132     85         medium        College  1750  \n",
       "179    180           high  Post Graduate  2500  \n",
       "94      85            low        College  1750  \n",
       "67      85            low        College  1500  "
      ]
     },
     "execution_count": 102,
     "metadata": {},
     "output_type": "execute_result"
    }
   ],
   "source": [
    "df.sample(10)"
   ]
  },
  {
   "cell_type": "code",
   "execution_count": 103,
   "id": "58a8aa69",
   "metadata": {},
   "outputs": [
    {
     "data": {
      "text/html": [
       "<div>\n",
       "<style scoped>\n",
       "    .dataframe tbody tr th:only-of-type {\n",
       "        vertical-align: middle;\n",
       "    }\n",
       "\n",
       "    .dataframe tbody tr th {\n",
       "        vertical-align: top;\n",
       "    }\n",
       "\n",
       "    .dataframe thead th {\n",
       "        text-align: right;\n",
       "    }\n",
       "</style>\n",
       "<table border=\"1\" class=\"dataframe\">\n",
       "  <thead>\n",
       "    <tr style=\"text-align: right;\">\n",
       "      <th></th>\n",
       "      <th>Product</th>\n",
       "      <th>Cost</th>\n",
       "    </tr>\n",
       "  </thead>\n",
       "  <tbody>\n",
       "    <tr>\n",
       "      <th>0</th>\n",
       "      <td>KP281</td>\n",
       "      <td>120000</td>\n",
       "    </tr>\n",
       "    <tr>\n",
       "      <th>1</th>\n",
       "      <td>KP481</td>\n",
       "      <td>105000</td>\n",
       "    </tr>\n",
       "    <tr>\n",
       "      <th>2</th>\n",
       "      <td>KP781</td>\n",
       "      <td>100000</td>\n",
       "    </tr>\n",
       "  </tbody>\n",
       "</table>\n",
       "</div>"
      ],
      "text/plain": [
       "  Product    Cost\n",
       "0   KP281  120000\n",
       "1   KP481  105000\n",
       "2   KP781  100000"
      ]
     },
     "execution_count": 103,
     "metadata": {},
     "output_type": "execute_result"
    }
   ],
   "source": [
    "df.groupby(\"Product\")[\"Cost\"].sum().reset_index()"
   ]
  },
  {
   "cell_type": "markdown",
   "id": "4089ee25",
   "metadata": {},
   "source": [
    "## Key findings from cost:\n",
    "\n",
    "- As anticipated more revenue is generated from entry level models followed by mid level and advanced model.\n",
    "- So clearly entry level models are the market leaders as from the income segments we see that low and medium income customers dominated to buty more of entry level models."
   ]
  },
  {
   "cell_type": "markdown",
   "id": "95cc0cc2",
   "metadata": {},
   "source": [
    "## Recommendations Based on Customer Demographics and Purchasing Patterns\n",
    "\n",
    "**Gender:**\n",
    "\n",
    "- Entry-Level Models: Maintain a balanced marketing approach to both males and females.\n",
    "- Mid-Level Models: Increase marketing efforts targeting males, who show a higher purchase rate.\n",
    "- Advanced Models: Focus marketing heavily on males due to significant dominance in purchases. Introduce new promotions to target more female customers on this models as well. \n",
    "\n",
    "**Marital Status:**\n",
    "\n",
    "- Entry-Level and Mid-Level Models: Prioritize marketing towards partnered individuals, who show higher purchase rates.\n",
    "- Advanced Models: Continue targeting partnered individuals, as they dominate this segment.\n",
    "\n",
    "**Age:**\n",
    "\n",
    "- Age Group 25: Prioritize marketing efforts across all models, especially mid and advanced models.\n",
    "- Age Group 23: Focus on promoting entry-level and mid-level models.\n",
    "- Age Group 24: Emphasize advanced models in marketing campaigns.\n",
    "- Age Group 26: Market evenly across all models with slight emphasis on entry-level models.\n",
    "\n",
    "**Income:**\n",
    "\n",
    "- Medium-Income Segment: Continue comprehensive marketing for all models, with an emphasis on advanced models.\n",
    "- Low-Income Segment: Focus on marketing entry-level and mid-level models; avoid promoting advanced models.\n",
    "- High-Income Segment: Target marketing exclusively towards advanced models, highlighting premium features and quality.\n",
    "\n",
    "**Education:**\n",
    "\n",
    "- High School Education: Minimal focus, as purchases are very low from this group.\n",
    "- College Education: Major focus on this segment, promoting entry-level and mid-level models, with good representation of advanced models.\n",
    "- Postgraduate Education: Target advanced models, leveraging the correlation between higher education and higher income.\n",
    "\n",
    "**General Recommendations:**\n",
    "\n",
    "- Clearly differentiate between models to effectively cater to specific demographics.\n",
    "- Customize marketing startegies to align with interests and characteristics of each segment.\n",
    "- Develop targeted promotions for high-purchasing segments like age group 25, partnered individuals, and college-educated customers.\n",
    "- Emphasize advanced features in advertising to attract high-income and postgraduate-educated customers.\n",
    "- Highlight affordability and essential features for low-income and high school-educated customers.\n"
   ]
  },
  {
   "cell_type": "code",
   "execution_count": null,
   "id": "01102cb1",
   "metadata": {},
   "outputs": [],
   "source": []
  },
  {
   "cell_type": "code",
   "execution_count": null,
   "id": "57638b42",
   "metadata": {},
   "outputs": [],
   "source": []
  },
  {
   "cell_type": "code",
   "execution_count": null,
   "id": "feb31a15",
   "metadata": {},
   "outputs": [],
   "source": []
  }
 ],
 "metadata": {
  "kernelspec": {
   "display_name": "Python 3 (ipykernel)",
   "language": "python",
   "name": "python3"
  },
  "language_info": {
   "codemirror_mode": {
    "name": "ipython",
    "version": 3
   },
   "file_extension": ".py",
   "mimetype": "text/x-python",
   "name": "python",
   "nbconvert_exporter": "python",
   "pygments_lexer": "ipython3",
   "version": "3.11.5"
  }
 },
 "nbformat": 4,
 "nbformat_minor": 5
}
